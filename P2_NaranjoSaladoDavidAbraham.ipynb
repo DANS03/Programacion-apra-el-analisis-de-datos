{
 "cells": [
  {
   "cell_type": "code",
   "execution_count": null,
   "metadata": {},
   "outputs": [],
   "source": [
    "#Práctica 2. Iterables, iteradores, estructuras mutables e inmutables"
   ]
  },
  {
   "attachments": {},
   "cell_type": "markdown",
   "metadata": {},
   "source": [
    "Iterador e iterable"
   ]
  },
  {
   "cell_type": "code",
   "execution_count": 4,
   "metadata": {},
   "outputs": [
    {
     "name": "stdout",
     "output_type": "stream",
     "text": [
      "apple\n",
      "banana\n",
      "cherry\n"
     ]
    }
   ],
   "source": [
    "#Ejemplo 1\n",
    "\n",
    "myTuple = (\"apple\",\"banana\",\"cherry\") #creamos a tupla\n",
    "myIterable = iter(myTuple) #se crea un iterador para el iterable myTuple\n",
    "\n",
    "print(next(myIterable))#itera para tuple[0]\n",
    "print(next(myIterable))#itera para tuple[1]\n",
    "print(next(myIterable))#itera para tuple[2]"
   ]
  },
  {
   "cell_type": "code",
   "execution_count": 5,
   "metadata": {},
   "outputs": [
    {
     "name": "stdout",
     "output_type": "stream",
     "text": [
      "b\n",
      "a\n",
      "n\n",
      "a\n",
      "n\n",
      "a\n"
     ]
    }
   ],
   "source": [
    "#Ejemplo 2\n",
    "\n",
    "myStr=\"banana\"\n",
    "myIterable = iter(myStr)\n",
    "\n",
    "for i in myStr:\n",
    "    print(next(myIterable))#Aumenta la posicion del iterable para cada iteracion"
   ]
  },
  {
   "attachments": {},
   "cell_type": "markdown",
   "metadata": {},
   "source": [
    "Tipos mutables e inmutables"
   ]
  },
  {
   "cell_type": "code",
   "execution_count": 3,
   "metadata": {},
   "outputs": [
    {
     "name": "stdout",
     "output_type": "stream",
     "text": [
      "H\n"
     ]
    },
    {
     "ename": "TypeError",
     "evalue": "'str' object does not support item assignment",
     "output_type": "error",
     "traceback": [
      "\u001b[1;31m---------------------------------------------------------------------------\u001b[0m",
      "\u001b[1;31mTypeError\u001b[0m                                 Traceback (most recent call last)",
      "Cell \u001b[1;32mIn[3], line 6\u001b[0m\n\u001b[0;32m      3\u001b[0m cadena \u001b[39m=\u001b[39m \u001b[39m\"\u001b[39m\u001b[39mHola mundo\u001b[39m\u001b[39m\"\u001b[39m\n\u001b[0;32m      4\u001b[0m \u001b[39mprint\u001b[39m(cadena[\u001b[39m0\u001b[39m])\n\u001b[1;32m----> 6\u001b[0m cadena[\u001b[39m0\u001b[39;49m]\u001b[39m=\u001b[39m\u001b[39m\"\u001b[39m\u001b[39mh\u001b[39m\u001b[39m\"\u001b[39m\n",
      "\u001b[1;31mTypeError\u001b[0m: 'str' object does not support item assignment"
     ]
    }
   ],
   "source": [
    "#str: inmutable\n",
    "\n",
    "cadena = \"Hola mundo\"\n",
    "print(cadena[0])\n",
    "\n",
    "cadena[0]=\"h\" # Esto Genera el error ya que una cadena es un objeto inmutable\n",
    "\n"
   ]
  },
  {
   "cell_type": "code",
   "execution_count": 8,
   "metadata": {},
   "outputs": [
    {
     "name": "stdout",
     "output_type": "stream",
     "text": [
      "['Hola', 'mundo']\n",
      "['Bienvenido', 'mundo']\n"
     ]
    }
   ],
   "source": [
    "#list: mutable\n",
    "\n",
    "lista = [\"Hola\",\"mundo\"]\n",
    "print(lista)\n",
    "\n",
    "lista[0] = \"Bienvenido\"# Una lista es un objeto mutable, por eso es posible hacer una nueva asiganacion\n",
    "print(lista)"
   ]
  },
  {
   "cell_type": "code",
   "execution_count": 10,
   "metadata": {},
   "outputs": [
    {
     "name": "stdout",
     "output_type": "stream",
     "text": [
      "Hola\n"
     ]
    },
    {
     "ename": "TypeError",
     "evalue": "'tuple' object does not support item assignment",
     "output_type": "error",
     "traceback": [
      "\u001b[1;31m---------------------------------------------------------------------------\u001b[0m",
      "\u001b[1;31mTypeError\u001b[0m                                 Traceback (most recent call last)",
      "Cell \u001b[1;32mIn[10], line 6\u001b[0m\n\u001b[0;32m      3\u001b[0m tupla \u001b[39m=\u001b[39m (\u001b[39m\"\u001b[39m\u001b[39mHola\u001b[39m\u001b[39m\"\u001b[39m,\u001b[39m\"\u001b[39m\u001b[39mMundo\u001b[39m\u001b[39m\"\u001b[39m)\n\u001b[0;32m      4\u001b[0m \u001b[39mprint\u001b[39m(tupla[\u001b[39m0\u001b[39m])\n\u001b[1;32m----> 6\u001b[0m tupla[\u001b[39m0\u001b[39;49m] \u001b[39m=\u001b[39m\u001b[39m\"\u001b[39m\u001b[39mBienvenido\u001b[39m\u001b[39m\"\u001b[39m\n",
      "\u001b[1;31mTypeError\u001b[0m: 'tuple' object does not support item assignment"
     ]
    }
   ],
   "source": [
    "#Tuple: inmutable\n",
    "\n",
    "tupla = (\"Hola\",\"Mundo\")\n",
    "print(tupla[0])\n",
    "\n",
    "tupla[0] =\"Bienvenido\"# Una tupla no es un objeto mutable, debido a esto cuando se hace una asignacion genera un error\n",
    "\n"
   ]
  }
 ],
 "metadata": {
  "kernelspec": {
   "display_name": "Python 3",
   "language": "python",
   "name": "python3"
  },
  "language_info": {
   "codemirror_mode": {
    "name": "ipython",
    "version": 3
   },
   "file_extension": ".py",
   "mimetype": "text/x-python",
   "name": "python",
   "nbconvert_exporter": "python",
   "pygments_lexer": "ipython3",
   "version": "3.11.1"
  },
  "orig_nbformat": 4,
  "vscode": {
   "interpreter": {
    "hash": "6a2a0214d38df7dcc88d60fd0083ce83592ef4b41f72cfba9b9d75b1af5e7e91"
   }
  }
 },
 "nbformat": 4,
 "nbformat_minor": 2
}
