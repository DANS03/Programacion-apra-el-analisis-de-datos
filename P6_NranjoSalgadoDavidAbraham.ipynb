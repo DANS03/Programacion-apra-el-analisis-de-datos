{
 "cells": [
  {
   "attachments": {},
   "cell_type": "markdown",
   "metadata": {},
   "source": [
    "## Generadores"
   ]
  },
  {
   "attachments": {},
   "cell_type": "markdown",
   "metadata": {},
   "source": [
    "1- Implementa un generador sucesos(p) que produce una secuencia infinita de valores booleanos pseudoaletorios con probabilidad p de que sean True."
   ]
  },
  {
   "cell_type": "code",
   "execution_count": 58,
   "metadata": {},
   "outputs": [],
   "source": [
    "import random\n",
    "\n",
    "def genRandom(p):\n",
    "    '''Takes a float p form 0 to 1, retunrs a boolean based on the probability given by p'''\n",
    "    if(p > 1):#Limitamos la probabilidad a 1 ya que no existe una probabilidad mayor\n",
    "        print(\"Unvalid probability\")\n",
    "        yield 0\n",
    "    else:\n",
    "    \n",
    "        yield (random.random() < p)#random.random() genera numeros entr 0 y 1  aleatoriamente, al compara este numero con la probabilidad la comprobacion hara que nos devuelva un true o un false\n",
    "    "
   ]
  },
  {
   "cell_type": "code",
   "execution_count": 59,
   "metadata": {},
   "outputs": [
    {
     "data": {
      "text/plain": [
       "False"
      ]
     },
     "execution_count": 59,
     "metadata": {},
     "output_type": "execute_result"
    }
   ],
   "source": [
    "value = genRandom(0.5)\n",
    "next(value)"
   ]
  },
  {
   "attachments": {},
   "cell_type": "markdown",
   "metadata": {},
   "source": [
    "2- Implementa un generador fibonacci(n) que produce los n primeros elementos de la serie de Fibonacci, que tiene la forma  0, 1, 1, 2, 3, 5, 8, 13, ... los dos primeros valores son 0 y 1 por definición y el resto se calculan sumando los dos últimos valores de la sucesión."
   ]
  },
  {
   "cell_type": "code",
   "execution_count": 60,
   "metadata": {},
   "outputs": [],
   "source": [
    "def genFibonacci(n, first=0,second=1):\n",
    "    '''Takes in an int n, int first, int second, yeilds the sum of first plus second n times '''\n",
    "    for _ in range(n):\n",
    "        yield first \n",
    "        first, second = second, first + second #Almacenamos el segundo valor en el primero y la nueva suma se combuerte en el segundo\n"
   ]
  },
  {
   "cell_type": "code",
   "execution_count": 61,
   "metadata": {},
   "outputs": [
    {
     "name": "stdout",
     "output_type": "stream",
     "text": [
      "[0, 1, 1, 2, 3, 5, 8, 13, 21, 34]\n"
     ]
    }
   ],
   "source": [
    "n = int(input(\"Introduce un limite para la serie de fibonacci:\")) \n",
    "\n",
    "print(list(genFibonacci(n)))"
   ]
  },
  {
   "attachments": {},
   "cell_type": "markdown",
   "metadata": {},
   "source": [
    "3- Implementa un generador primos(n) que genere los primeros n primos. Por eficiencia, el generador debe ir almacenando los primos encontrados hasta el momento en una lista."
   ]
  },
  {
   "cell_type": "code",
   "execution_count": 62,
   "metadata": {},
   "outputs": [],
   "source": [
    "def genPrime(n):\n",
    "    '''Takes in an int, yeilds the prime numbers in range of n+1'''\n",
    "    for i in range(2,n + 1):\n",
    "        current = True\n",
    "        for j in range(2,i+ 1):\n",
    "            if( i == j):\n",
    "               current = True \n",
    "            \n",
    "            elif( i%j == 0):\n",
    "                current = False\n",
    "                break\n",
    "        if(current):\n",
    "            yield i\n",
    "\n"
   ]
  },
  {
   "cell_type": "code",
   "execution_count": 63,
   "metadata": {},
   "outputs": [
    {
     "name": "stdout",
     "output_type": "stream",
     "text": [
      "[2, 3, 5, 7]\n"
     ]
    }
   ],
   "source": [
    "limit = int(input(\"Introduce un limite para los numeros primos:\")) \n",
    "\n",
    "prime = genPrime(limit)\n",
    "print(list(prime))"
   ]
  },
  {
   "attachments": {},
   "cell_type": "markdown",
   "metadata": {},
   "source": [
    "## Lambda\n",
    "\n",
    "4- Filtrar números impares de una lista usando la función integrada filter() y una función lambda. Recuerde que la sitaxis de filter es filter(function, iterable). En la misma, \"function\" opera sobre \" iterable\" y filter() devuelve un iterador que contendrá a todos los elementos del iterable que pasen la condición de function."
   ]
  },
  {
   "cell_type": "code",
   "execution_count": 64,
   "metadata": {},
   "outputs": [],
   "source": [
    "def generateList():\n",
    "    n = int(input(\"Introduce el tamaño de la lista:\")) \n",
    "    list = []\n",
    "    for i in range(n+1):\n",
    "        list.append(i)  \n",
    "\n",
    "    return list\n"
   ]
  },
  {
   "cell_type": "code",
   "execution_count": 65,
   "metadata": {},
   "outputs": [
    {
     "name": "stdout",
     "output_type": "stream",
     "text": [
      "[0, 2, 4, 6, 8, 10]\n"
     ]
    }
   ],
   "source": [
    "valueList = generateList()\n",
    "valueList\n",
    "\n",
    "print (list(filter(lambda x: x % 2 == 0, valueList)))\n",
    "\n"
   ]
  },
  {
   "attachments": {},
   "cell_type": "markdown",
   "metadata": {},
   "source": [
    "5- Crear dos funciones anónimas:\n"
   ]
  },
  {
   "attachments": {},
   "cell_type": "markdown",
   "metadata": {},
   "source": [
    "Una recibe el valor en Fahrenheit y retorna el valor en Celsius\n"
   ]
  },
  {
   "cell_type": "code",
   "execution_count": 66,
   "metadata": {},
   "outputs": [
    {
     "data": {
      "text/plain": [
       "32.0"
      ]
     },
     "execution_count": 66,
     "metadata": {},
     "output_type": "execute_result"
    }
   ],
   "source": [
    "temperatureInCelsius = 0\n",
    "FahrenheitToCelsius = (lambda celsius : celsius * (9/5) + 32 )\n",
    "\n",
    "FahrenheitToCelsius(temperatureInCelsius)"
   ]
  },
  {
   "attachments": {},
   "cell_type": "markdown",
   "metadata": {},
   "source": [
    "Otra recibe el valor en Celsius y retorna el valor en Fahrenheit"
   ]
  },
  {
   "cell_type": "code",
   "execution_count": 67,
   "metadata": {},
   "outputs": [
    {
     "data": {
      "text/plain": [
       "0.0"
      ]
     },
     "execution_count": 67,
     "metadata": {},
     "output_type": "execute_result"
    }
   ],
   "source": [
    "temperatureInFahrenheit = 32\n",
    "celsiusToFahrenheit = (lambda fahrenheit : (fahrenheit - 32) * (5/9))\n",
    "\n",
    "celsiusToFahrenheit(temperatureInFahrenheit)\n"
   ]
  }
 ],
 "metadata": {
  "kernelspec": {
   "display_name": "Python 3",
   "language": "python",
   "name": "python3"
  },
  "language_info": {
   "codemirror_mode": {
    "name": "ipython",
    "version": 3
   },
   "file_extension": ".py",
   "mimetype": "text/x-python",
   "name": "python",
   "nbconvert_exporter": "python",
   "pygments_lexer": "ipython3",
   "version": "3.9.11"
  },
  "orig_nbformat": 4
 },
 "nbformat": 4,
 "nbformat_minor": 2
}
