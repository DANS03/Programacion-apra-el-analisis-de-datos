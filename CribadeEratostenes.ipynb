{
 "cells": [
  {
   "cell_type": "code",
   "execution_count": 96,
   "metadata": {},
   "outputs": [],
   "source": [
    "import math \n",
    "\n",
    "def initialValues(number):\n",
    "    \n",
    "    n = math.sqrt(number)\n",
    "    \n",
    "    n = math.floor(n)\n",
    "    return n\n"
   ]
  },
  {
   "cell_type": "code",
   "execution_count": 97,
   "metadata": {},
   "outputs": [],
   "source": [
    "def fillPrime(limit, numbers,setOFNumbers):\n",
    "    \n",
    "    for prime in range(2,limit+1):\n",
    "        for i in range(2,numbers+1):\n",
    "            print(i)\n",
    "            print(prime) \n",
    "            if( i % prime == 0 ):\n",
    "                setOFNumbers.remove(i) \n",
    "                print(i) \n",
    "\n",
    "        yield prime\n",
    "        \n",
    "        "
   ]
  },
  {
   "cell_type": "code",
   "execution_count": 98,
   "metadata": {},
   "outputs": [
    {
     "name": "stdout",
     "output_type": "stream",
     "text": [
      "6\n",
      "{2, 3, 4, 5, 6, 7, 8, 9, 10, 11, 12, 13, 14, 15, 16, 17, 18, 19, 20, 21, 22, 23, 24, 25, 26, 27, 28, 29, 30, 31, 32, 33, 34, 35, 36, 37, 38, 39, 40}\n"
     ]
    }
   ],
   "source": [
    "\n",
    "def main():\n",
    "    n = int(input())\n",
    "\n",
    "    limit = initialValues(n)\n",
    "\n",
    "    \n",
    "    compositeNumbers = set(range(2,n+1))\n",
    "\n",
    "    fillPrime(limit, n,compositeNumbers)\n",
    "    print(limit)\n",
    "    \n",
    "\n",
    "    print(compositeNumbers)\n",
    "\n",
    "\n",
    "\n",
    "main()"
   ]
  },
  {
   "attachments": {},
   "cell_type": "markdown",
   "metadata": {},
   "source": []
  }
 ],
 "metadata": {
  "kernelspec": {
   "display_name": "Python 3",
   "language": "python",
   "name": "python3"
  },
  "language_info": {
   "codemirror_mode": {
    "name": "ipython",
    "version": 3
   },
   "file_extension": ".py",
   "mimetype": "text/x-python",
   "name": "python",
   "nbconvert_exporter": "python",
   "pygments_lexer": "ipython3",
   "version": "3.9.11"
  },
  "orig_nbformat": 4
 },
 "nbformat": 4,
 "nbformat_minor": 2
}
