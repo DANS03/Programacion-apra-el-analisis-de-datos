{
 "cells": [
  {
   "cell_type": "markdown",
   "metadata": {},
   "source": [
    "# Diccionarios\n",
    "\n",
    "## Programación para Analítica de Datos\n",
    "## Mtra. Gisel Hernández Chávez\n",
    "\n",
    "### Contenido principal\n",
    "+ Diccionarios como iterable de tipo mapping, mutable y no ordenado\n",
    "+ Creación de un diccionario\n",
    "+ Operaciones con diccionarios\n",
    "+ Iteraciones en un diccionario\n",
    "+ Conversión a lista de tuplas\n",
    "+ Diccionarios por comprensión\n",
    "+ Ejemplos y ejercicios\n"
   ]
  },
  {
   "cell_type": "markdown",
   "metadata": {},
   "source": [
    "## Creación de un diccionario"
   ]
  },
  {
   "cell_type": "code",
   "execution_count": 12,
   "metadata": {},
   "outputs": [
    {
     "data": {
      "text/plain": [
       "({}, {})"
      ]
     },
     "execution_count": 12,
     "metadata": {},
     "output_type": "execute_result"
    }
   ],
   "source": [
    "d = {}\n",
    "\n",
    "d1 = dict()\n",
    "d, d1"
   ]
  },
  {
   "cell_type": "code",
   "execution_count": 13,
   "metadata": {},
   "outputs": [
    {
     "data": {
      "text/plain": [
       "{1: ('primero', 1.0), 2: 'segundo', 3: 'tercero'}"
      ]
     },
     "execution_count": 13,
     "metadata": {},
     "output_type": "execute_result"
    }
   ],
   "source": [
    "d2 = {1:('primero',1.0),2:'segundo',3:'tercero'}\n",
    "d2"
   ]
  },
  {
   "cell_type": "markdown",
   "metadata": {},
   "source": [
    "## Elementos, llaves y valores"
   ]
  },
  {
   "cell_type": "code",
   "execution_count": 14,
   "metadata": {},
   "outputs": [
    {
     "data": {
      "text/plain": [
       "dict_items([(1, ('primero', 1.0)), (2, 'segundo'), (3, 'tercero')])"
      ]
     },
     "execution_count": 14,
     "metadata": {},
     "output_type": "execute_result"
    }
   ],
   "source": [
    "d2.items()"
   ]
  },
  {
   "cell_type": "code",
   "execution_count": 15,
   "metadata": {},
   "outputs": [
    {
     "data": {
      "text/plain": [
       "[(1, ('primero', 1.0)), (2, 'segundo'), (3, 'tercero')]"
      ]
     },
     "execution_count": 15,
     "metadata": {},
     "output_type": "execute_result"
    }
   ],
   "source": [
    "list(d2.items())"
   ]
  },
  {
   "cell_type": "code",
   "execution_count": 16,
   "metadata": {},
   "outputs": [
    {
     "data": {
      "text/plain": [
       "[1, 2, 3]"
      ]
     },
     "execution_count": 16,
     "metadata": {},
     "output_type": "execute_result"
    }
   ],
   "source": [
    "list(d2.keys())"
   ]
  },
  {
   "cell_type": "code",
   "execution_count": 17,
   "metadata": {},
   "outputs": [
    {
     "data": {
      "text/plain": [
       "[('primero', 1.0), 'segundo', 'tercero']"
      ]
     },
     "execution_count": 17,
     "metadata": {},
     "output_type": "execute_result"
    }
   ],
   "source": [
    "list(d2.values())"
   ]
  },
  {
   "cell_type": "code",
   "execution_count": 18,
   "metadata": {},
   "outputs": [
    {
     "data": {
      "text/plain": [
       "[('list', 'Liste'), ('dictionary', 'Wörterbuch'), ('function', 'Funktion')]"
      ]
     },
     "execution_count": 18,
     "metadata": {},
     "output_type": "execute_result"
    }
   ],
   "source": [
    "D = {\"list\":\"Liste\", \"dictionary\":\"Wörterbuch\", \"function\":\"Funktion\"} \n",
    "list(D.items())"
   ]
  },
  {
   "cell_type": "markdown",
   "metadata": {},
   "source": [
    "## Eliminación de elementos"
   ]
  },
  {
   "cell_type": "code",
   "execution_count": 19,
   "metadata": {},
   "outputs": [
    {
     "data": {
      "text/plain": [
       "{'Raúl': '555−1111', 'Yanira': '555−3333', 'José Antonio': '555−2222'}"
      ]
     },
     "execution_count": 19,
     "metadata": {},
     "output_type": "execute_result"
    }
   ],
   "source": [
    "directorio = {'Raúl':'555−1111', 'Yanira':'555−3333','José Antonio':'555−2222' } \n",
    "directorio"
   ]
  },
  {
   "cell_type": "markdown",
   "metadata": {},
   "source": [
    "La función del levanta un error si no encuentra la llave por lo que debe usarse solo si la llave está presente, haciendo primero prueba de membresía."
   ]
  },
  {
   "cell_type": "code",
   "execution_count": 20,
   "metadata": {},
   "outputs": [
    {
     "ename": "KeyError",
     "evalue": "'Cristóbal'",
     "output_type": "error",
     "traceback": [
      "\u001b[1;31m---------------------------------------------------------------------------\u001b[0m",
      "\u001b[1;31mKeyError\u001b[0m                                  Traceback (most recent call last)",
      "Cell \u001b[1;32mIn[20], line 1\u001b[0m\n\u001b[1;32m----> 1\u001b[0m \u001b[39mdel\u001b[39;00m directorio[\u001b[39m'\u001b[39m\u001b[39mCristóbal\u001b[39m\u001b[39m'\u001b[39m]\n",
      "\u001b[1;31mKeyError\u001b[0m: 'Cristóbal'"
     ]
    }
   ],
   "source": [
    "del directorio['Cristóbal']"
   ]
  },
  {
   "cell_type": "code",
   "execution_count": null,
   "metadata": {},
   "outputs": [
    {
     "data": {
      "text/plain": [
       "{'Raúl': '555−1111', 'Yanira': '555−3333', 'José Antonio': '555−2222'}"
      ]
     },
     "execution_count": 17,
     "metadata": {},
     "output_type": "execute_result"
    }
   ],
   "source": [
    "if 'Chris' in directorio: \n",
    "    del directorio['Chris'] \n",
    "directorio"
   ]
  },
  {
   "cell_type": "markdown",
   "metadata": {},
   "source": [
    "También puede emprearse en un bloque try-except"
   ]
  },
  {
   "cell_type": "code",
   "execution_count": null,
   "metadata": {},
   "outputs": [
    {
     "name": "stdout",
     "output_type": "stream",
     "text": [
      "No puede eliminar a Chris porque no está en el diccionario\n"
     ]
    }
   ],
   "source": [
    "nombre = 'Chris'\n",
    "try:\n",
    "    del directorio[nombre] \n",
    "except KeyError:\n",
    "    print('No puede eliminar a {} porque no está en el diccionario'.format(nombre))"
   ]
  },
  {
   "cell_type": "code",
   "execution_count": null,
   "metadata": {},
   "outputs": [
    {
     "ename": "SyntaxError",
     "evalue": "invalid syntax (999911455.py, line 1)",
     "output_type": "error",
     "traceback": [
      "\u001b[1;36m  Input \u001b[1;32mIn [38]\u001b[1;36m\u001b[0m\n\u001b[1;33m    1nombre = 'ana'\u001b[0m\n\u001b[1;37m     ^\u001b[0m\n\u001b[1;31mSyntaxError\u001b[0m\u001b[1;31m:\u001b[0m invalid syntax\n"
     ]
    }
   ],
   "source": [
    "1nombre = 'ana'"
   ]
  },
  {
   "cell_type": "code",
   "execution_count": null,
   "metadata": {},
   "outputs": [],
   "source": [
    "if 4 < 5:\n",
    "a = 8\n"
   ]
  },
  {
   "cell_type": "markdown",
   "metadata": {},
   "source": [
    "## Adición de elementos en el diccionario"
   ]
  },
  {
   "cell_type": "code",
   "execution_count": 21,
   "metadata": {},
   "outputs": [
    {
     "data": {
      "text/plain": [
       "{'Raúl': '555−1111',\n",
       " 'Yanira': '555−3333',\n",
       " 'José Antonio': '555−2222',\n",
       " 'Rosita': -679}"
      ]
     },
     "execution_count": 21,
     "metadata": {},
     "output_type": "execute_result"
    }
   ],
   "source": [
    "directorio['Rosita'] = 555-1234\n",
    "directorio"
   ]
  },
  {
   "cell_type": "markdown",
   "metadata": {},
   "source": [
    "Observe que se guardó como valor para la llave 'Rosita' el resultado de una resta.\n",
    "\n",
    "Si volvemos a adicionar con la misma llave, se borra el valor anterior"
   ]
  },
  {
   "cell_type": "code",
   "execution_count": 22,
   "metadata": {},
   "outputs": [
    {
     "data": {
      "text/plain": [
       "{'Raúl': '555−1111',\n",
       " 'Yanira': '555−3333',\n",
       " 'José Antonio': '555−2222',\n",
       " 'Rosita': '555-1234'}"
      ]
     },
     "execution_count": 22,
     "metadata": {},
     "output_type": "execute_result"
    }
   ],
   "source": [
    "directorio['Rosita'] = '555-1234'\n",
    "directorio"
   ]
  },
  {
   "cell_type": "code",
   "execution_count": 23,
   "metadata": {},
   "outputs": [
    {
     "data": {
      "text/plain": [
       "{'Raúl': '555−1111',\n",
       " 'Yanira': '555−3333',\n",
       " 'José Antonio': '555−2222',\n",
       " 'Rosita': '555-56789'}"
      ]
     },
     "execution_count": 23,
     "metadata": {},
     "output_type": "execute_result"
    }
   ],
   "source": [
    "if 'Rosita' in directorio: \n",
    "    directorio['Rosita'] = '555-56789' \n",
    "else:\n",
    "    directorio['Rosita'] = '555-9999'\n",
    "directorio"
   ]
  },
  {
   "cell_type": "markdown",
   "metadata": {},
   "source": [
    "## Tamaño de un diccionario"
   ]
  },
  {
   "cell_type": "code",
   "execution_count": 24,
   "metadata": {},
   "outputs": [
    {
     "data": {
      "text/plain": [
       "4"
      ]
     },
     "execution_count": 24,
     "metadata": {},
     "output_type": "execute_result"
    }
   ],
   "source": [
    "len(directorio)"
   ]
  },
  {
   "cell_type": "markdown",
   "metadata": {},
   "source": [
    "## Pruebas de membresía"
   ]
  },
  {
   "cell_type": "code",
   "execution_count": 25,
   "metadata": {},
   "outputs": [
    {
     "data": {
      "text/plain": [
       "(False, True, True, False)"
      ]
     },
     "execution_count": 25,
     "metadata": {},
     "output_type": "execute_result"
    }
   ],
   "source": [
    "'Bárbara' in directorio, 'Bárbara' not in directorio, 'Yanira' in directorio, 'Yanira' not in directorio"
   ]
  },
  {
   "cell_type": "code",
   "execution_count": 26,
   "metadata": {},
   "outputs": [
    {
     "data": {
      "text/plain": [
       "{'a'}"
      ]
     },
     "execution_count": 26,
     "metadata": {},
     "output_type": "execute_result"
    }
   ],
   "source": [
    "conjunto =set()\n",
    "conjunto.add('a')\n",
    "conjunto"
   ]
  },
  {
   "cell_type": "code",
   "execution_count": null,
   "metadata": {},
   "outputs": [],
   "source": []
  },
  {
   "cell_type": "code",
   "execution_count": 27,
   "metadata": {},
   "outputs": [
    {
     "data": {
      "text/plain": [
       "{'a', 'b'}"
      ]
     },
     "execution_count": 27,
     "metadata": {},
     "output_type": "execute_result"
    }
   ],
   "source": [
    "conjunto.add('b')\n",
    "conjunto"
   ]
  },
  {
   "cell_type": "code",
   "execution_count": 28,
   "metadata": {},
   "outputs": [
    {
     "name": "stdout",
     "output_type": "stream",
     "text": [
      "a\n",
      "b\n"
     ]
    }
   ],
   "source": [
    "for i in conjunto:\n",
    "    print(i)"
   ]
  },
  {
   "cell_type": "code",
   "execution_count": 29,
   "metadata": {},
   "outputs": [
    {
     "name": "stdout",
     "output_type": "stream",
     "text": [
      "0\n",
      "1\n",
      "2\n",
      "3\n",
      "4\n",
      "5\n",
      "6\n",
      "7\n"
     ]
    }
   ],
   "source": [
    "for i in range(8): print(i)"
   ]
  },
  {
   "cell_type": "code",
   "execution_count": null,
   "metadata": {},
   "outputs": [],
   "source": [
    "for i,j in enumerate([33,55,66]):\n",
    "    print(i,j)"
   ]
  },
  {
   "cell_type": "code",
   "execution_count": null,
   "metadata": {},
   "outputs": [],
   "source": [
    "directorio"
   ]
  },
  {
   "cell_type": "markdown",
   "metadata": {},
   "source": [
    "## Iteración de elementos en diccionario sin adiciones ni eliminaciones"
   ]
  },
  {
   "cell_type": "code",
   "execution_count": 30,
   "metadata": {},
   "outputs": [
    {
     "name": "stdout",
     "output_type": "stream",
     "text": [
      "Raúl 555−1111\n",
      "Yanira 555−3333\n",
      "José Antonio 555−2222\n",
      "Rosita 555-56789\n"
     ]
    }
   ],
   "source": [
    "for j in directorio:    # la j “recibe” las llaves\n",
    "    print(j, directorio[j])"
   ]
  },
  {
   "cell_type": "code",
   "execution_count": 31,
   "metadata": {},
   "outputs": [
    {
     "name": "stdout",
     "output_type": "stream",
     "text": [
      "555−1111\n",
      "555−3333\n",
      "555−2222\n",
      "555-56789\n"
     ]
    }
   ],
   "source": [
    "for valor in directorio.values():\n",
    "    print(valor)"
   ]
  },
  {
   "cell_type": "code",
   "execution_count": 32,
   "metadata": {},
   "outputs": [
    {
     "name": "stdout",
     "output_type": "stream",
     "text": [
      "Raúl\n",
      "Yanira\n",
      "José Antonio\n",
      "Rosita\n"
     ]
    }
   ],
   "source": [
    "for k in directorio.keys():\n",
    "    print(k)"
   ]
  },
  {
   "cell_type": "code",
   "execution_count": 33,
   "metadata": {},
   "outputs": [
    {
     "name": "stdout",
     "output_type": "stream",
     "text": [
      "Raúl 555−1111\n",
      "Yanira 555−3333\n",
      "José Antonio 555−2222\n",
      "Rosita 555-56789\n"
     ]
    }
   ],
   "source": [
    "for i,j in directorio.items():\n",
    "    print(i,j)"
   ]
  },
  {
   "attachments": {
    "image.png": {
     "image/png": "[encoded data removed]"
    }
   },
   "cell_type": "markdown",
   "metadata": {},
   "source": [
    "![image.png](attachment:image.png)"
   ]
  },
  {
   "cell_type": "markdown",
   "metadata": {},
   "source": [
    "## Copia superficial de un diccionario (quedan enlaces a colecciones anidadas; no es una copia profunda)"
   ]
  },
  {
   "cell_type": "code",
   "execution_count": 34,
   "metadata": {},
   "outputs": [],
   "source": [
    "traduccion ={'es':'is','fue':'was','son':'are','fueron':'were'}"
   ]
  },
  {
   "cell_type": "code",
   "execution_count": 35,
   "metadata": {},
   "outputs": [
    {
     "data": {
      "text/plain": [
       "dict_keys(['es', 'fue', 'son', 'fueron'])"
      ]
     },
     "execution_count": 35,
     "metadata": {},
     "output_type": "execute_result"
    }
   ],
   "source": [
    "traduccion.keys()"
   ]
  },
  {
   "cell_type": "code",
   "execution_count": 36,
   "metadata": {},
   "outputs": [
    {
     "data": {
      "text/plain": [
       "{'es': 'is', 'fue': 'was', 'son': 'are', 'fueron': 'were'}"
      ]
     },
     "execution_count": 36,
     "metadata": {},
     "output_type": "execute_result"
    }
   ],
   "source": [
    "copia_traduc = traduccion.copy()\n",
    "copia_traduc"
   ]
  },
  {
   "cell_type": "markdown",
   "metadata": {},
   "source": [
    "## Copia profunda con deepcopy()"
   ]
  },
  {
   "cell_type": "code",
   "execution_count": 37,
   "metadata": {},
   "outputs": [],
   "source": [
    "import copy\n",
    "dic_anidaciones = {'ser':[{'es':['is','c\\'est'],'fue':['was','il a été'],'son':['are','ils sont'],'fueron':['were','étaient']}]}"
   ]
  },
  {
   "cell_type": "code",
   "execution_count": 38,
   "metadata": {},
   "outputs": [],
   "source": [
    "dic_anida_sup = copy.copy(dic_anidaciones)\n",
    "dic_anida_prof = copy.deepcopy(dic_anidaciones)"
   ]
  },
  {
   "cell_type": "code",
   "execution_count": 39,
   "metadata": {},
   "outputs": [
    {
     "data": {
      "text/plain": [
       "[{'es': ['is', \"c'est\"],\n",
       "  'fue': ['was', 'il a été'],\n",
       "  'son': ['are', 'ils sont'],\n",
       "  'fueron': ['were', 'étaient']}]"
      ]
     },
     "execution_count": 39,
     "metadata": {},
     "output_type": "execute_result"
    }
   ],
   "source": [
    "dic_anida_sup['ser']"
   ]
  },
  {
   "cell_type": "code",
   "execution_count": 41,
   "metadata": {},
   "outputs": [
    {
     "data": {
      "text/plain": [
       "{'es': ['is', \"c'est\"],\n",
       " 'fue': ['was', 'il a été'],\n",
       " 'son': ['are', 'ils sont'],\n",
       " 'fueron': ['were', 'étaient']}"
      ]
     },
     "execution_count": 41,
     "metadata": {},
     "output_type": "execute_result"
    }
   ],
   "source": [
    "dic_anida_sup['ser'][0]"
   ]
  },
  {
   "cell_type": "code",
   "execution_count": null,
   "metadata": {},
   "outputs": [
    {
     "data": {
      "text/plain": [
       "['was', 'il a été']"
      ]
     },
     "execution_count": 48,
     "metadata": {},
     "output_type": "execute_result"
    }
   ],
   "source": [
    "dic_anida_sup['ser'][0]['fue']"
   ]
  },
  {
   "cell_type": "code",
   "execution_count": null,
   "metadata": {},
   "outputs": [
    {
     "data": {
      "text/plain": [
       "['WAS', 'IL A ÉTÉ']"
      ]
     },
     "execution_count": 49,
     "metadata": {},
     "output_type": "execute_result"
    }
   ],
   "source": [
    "dic_anida_sup['ser'][0]['fue'] = [i.upper() for i in ['was', 'il a été']]\n",
    "dic_anida_sup['ser'][0]['fue'] "
   ]
  },
  {
   "cell_type": "code",
   "execution_count": null,
   "metadata": {},
   "outputs": [
    {
     "data": {
      "text/plain": [
       "['WAS', 'IL A ÉTÉ']"
      ]
     },
     "execution_count": 50,
     "metadata": {},
     "output_type": "execute_result"
    }
   ],
   "source": [
    "dic_anidaciones['ser'][0]['fue']  # Lo que demuestra que esta copia fue superficial"
   ]
  },
  {
   "cell_type": "markdown",
   "metadata": {},
   "source": [
    "## Limpiar contenido del diccionario"
   ]
  },
  {
   "cell_type": "code",
   "execution_count": null,
   "metadata": {},
   "outputs": [
    {
     "data": {
      "text/plain": [
       "({}, {'es': 'is', 'fue': 'was', 'son': 'are', 'fueron': 'were'})"
      ]
     },
     "execution_count": 51,
     "metadata": {},
     "output_type": "execute_result"
    }
   ],
   "source": [
    "traduccion.clear()\n",
    "traduccion,copia_traduc"
   ]
  },
  {
   "cell_type": "markdown",
   "metadata": {},
   "source": [
    "## Retornar valor con get()"
   ]
  },
  {
   "cell_type": "code",
   "execution_count": null,
   "metadata": {},
   "outputs": [
    {
     "data": {
      "text/plain": [
       "'was'"
      ]
     },
     "execution_count": 52,
     "metadata": {},
     "output_type": "execute_result"
    }
   ],
   "source": [
    "traduccion ={'es':'is','fue':'was','son':'are','fueron':'were'}\n",
    "traduccion.get('fue')"
   ]
  },
  {
   "cell_type": "code",
   "execution_count": null,
   "metadata": {},
   "outputs": [
    {
     "name": "stdout",
     "output_type": "stream",
     "text": [
      "La traducción de será: No está en el diccionario\n"
     ]
    }
   ],
   "source": [
    "palabra ='será'\n",
    "print('La traducción de {}: {}'.format(palabra,traduccion.get(palabra,'No está en el diccionario')))"
   ]
  },
  {
   "cell_type": "markdown",
   "metadata": {},
   "source": [
    "## Actualizar con update()\n",
    "\n",
    "El método update () actualiza el diccionario con los elementos de otro objeto de diccionario o de un iterable de pares clave / valor (generalmente tuplas)"
   ]
  },
  {
   "cell_type": "code",
   "execution_count": null,
   "metadata": {},
   "outputs": [],
   "source": [
    "otra_traduccion = {'será':'will be','serán':'will be'}"
   ]
  },
  {
   "cell_type": "code",
   "execution_count": null,
   "metadata": {},
   "outputs": [
    {
     "data": {
      "text/plain": [
       "{'es': 'is', 'fue': 'was', 'son': 'are', 'fueron': 'were'}"
      ]
     },
     "execution_count": 55,
     "metadata": {},
     "output_type": "execute_result"
    }
   ],
   "source": [
    "traduccion.update()\n",
    "traduccion"
   ]
  },
  {
   "cell_type": "code",
   "execution_count": null,
   "metadata": {},
   "outputs": [
    {
     "data": {
      "text/plain": [
       "{'es': 'is',\n",
       " 'fue': 'was',\n",
       " 'son': 'are',\n",
       " 'fueron': 'were',\n",
       " 'será': 'will be',\n",
       " 'serán': 'will be'}"
      ]
     },
     "execution_count": 56,
     "metadata": {},
     "output_type": "execute_result"
    }
   ],
   "source": [
    "otra_traduccion = {'será':'will be','serán':'will be'}\n",
    "\n",
    "traduccion.update(otra_traduccion)\n",
    "traduccion"
   ]
  },
  {
   "cell_type": "code",
   "execution_count": null,
   "metadata": {},
   "outputs": [
    {
     "data": {
      "text/plain": [
       "{'es': 'is',\n",
       " 'fue': 'was',\n",
       " 'son': 'are',\n",
       " 'fueron': 'were',\n",
       " 'será': 'will be',\n",
       " 'serán': 'will be',\n",
       " 'soy': 'am',\n",
       " 'somos': 'are'}"
      ]
     },
     "execution_count": 57,
     "metadata": {},
     "output_type": "execute_result"
    }
   ],
   "source": [
    "traduccion.update(soy = 'am', somos = 'are')\n",
    "traduccion"
   ]
  },
  {
   "cell_type": "markdown",
   "metadata": {},
   "source": [
    "## Eliminar y retornar con pop() y popitem()\n",
    "\n",
    "### pop() retorna el valor asociado a la llave, si la encuentra y elimina el par llave: valor"
   ]
  },
  {
   "cell_type": "code",
   "execution_count": 42,
   "metadata": {},
   "outputs": [
    {
     "name": "stdout",
     "output_type": "stream",
     "text": [
      "{'fue': 'was', 'son': 'are', 'fueron': 'were'} is\n"
     ]
    }
   ],
   "source": [
    "# Usando prueba de membresía antes de hacer el pop()\n",
    "# Solución Paulo\n",
    "if 'es' in traduccion:\n",
    "    traduccion2 = traduccion.pop('es')\n",
    "    print(traduccion, traduccion2)\n",
    "else:\n",
    "    print('No se puede eliminar ya que no existe ese elemento en el diccionario')\n"
   ]
  },
  {
   "cell_type": "code",
   "execution_count": null,
   "metadata": {},
   "outputs": [
    {
     "name": "stdout",
     "output_type": "stream",
     "text": [
      "{'fue': 'was', 'son': 'are', 'fueron': 'were', 'será': 'will be', 'serán': 'will be', 'soy': 'am', 'somos': 'are'} is\n"
     ]
    }
   ],
   "source": [
    "# Usar bloque try except\n",
    "# Solución Santiago\n",
    "try:\n",
    "    traduccion2 = traduccion.pop('es')\n",
    "    print(traduccion, traduccion2)\n",
    "except KeyError:\n",
    "    print(f'No se puede aplicar pop porque ya no se encuentra')"
   ]
  },
  {
   "cell_type": "code",
   "execution_count": null,
   "metadata": {},
   "outputs": [
    {
     "data": {
      "text/plain": [
       "({'fue': 'was',\n",
       "  'son': 'are',\n",
       "  'fueron': 'were',\n",
       "  'será': 'will be',\n",
       "  'serán': 'will be',\n",
       "  'soy': 'am',\n",
       "  'somos': 'are'},\n",
       " 'is')"
      ]
     },
     "execution_count": 60,
     "metadata": {},
     "output_type": "execute_result"
    }
   ],
   "source": [
    "traduccion, traduccion2"
   ]
  },
  {
   "cell_type": "code",
   "execution_count": null,
   "metadata": {},
   "outputs": [
    {
     "ename": "KeyError",
     "evalue": "'es'",
     "output_type": "error",
     "traceback": [
      "\u001b[1;31m---------------------------------------------------------------------------\u001b[0m",
      "\u001b[1;31mKeyError\u001b[0m                                  Traceback (most recent call last)",
      "Input \u001b[1;32mIn [61]\u001b[0m, in \u001b[0;36m<cell line: 1>\u001b[1;34m()\u001b[0m\n\u001b[1;32m----> 1\u001b[0m traduccion2 \u001b[38;5;241m=\u001b[39m \u001b[43mtraduccion\u001b[49m\u001b[38;5;241;43m.\u001b[39;49m\u001b[43mpop\u001b[49m\u001b[43m(\u001b[49m\u001b[38;5;124;43m'\u001b[39;49m\u001b[38;5;124;43mes\u001b[39;49m\u001b[38;5;124;43m'\u001b[39;49m\u001b[43m)\u001b[49m\n\u001b[0;32m      2\u001b[0m traduccion, traduccion2\n",
      "\u001b[1;31mKeyError\u001b[0m: 'es'"
     ]
    }
   ],
   "source": [
    "traduccion2 = traduccion.pop('es')\n",
    "traduccion, traduccion2"
   ]
  },
  {
   "cell_type": "code",
   "execution_count": null,
   "metadata": {},
   "outputs": [
    {
     "data": {
      "text/plain": [
       "'was'"
      ]
     },
     "execution_count": 62,
     "metadata": {},
     "output_type": "execute_result"
    }
   ],
   "source": [
    "traduccion ={'es':'is','fue':'was','son':'are','fueron':'were'}\n",
    "traduccion.get('fue')"
   ]
  },
  {
   "cell_type": "markdown",
   "metadata": {},
   "source": [
    "### popitem() retorna un par llave: valor y lo elimina \n",
    "\n",
    "+ ¡AGUAS CON USAR for PARA ELIMINAR! Cambia el tamaño del diccionario"
   ]
  },
  {
   "cell_type": "code",
   "execution_count": 43,
   "metadata": {},
   "outputs": [
    {
     "name": "stdout",
     "output_type": "stream",
     "text": [
      "('fueron', 'were')\n"
     ]
    }
   ],
   "source": [
    "print(traduccion.popitem())"
   ]
  },
  {
   "cell_type": "code",
   "execution_count": null,
   "metadata": {},
   "outputs": [
    {
     "data": {
      "text/plain": [
       "{'es': 'is', 'fue': 'was', 'son': 'are'}"
      ]
     },
     "execution_count": 64,
     "metadata": {},
     "output_type": "execute_result"
    }
   ],
   "source": [
    "traduccion"
   ]
  },
  {
   "cell_type": "code",
   "execution_count": null,
   "metadata": {},
   "outputs": [
    {
     "ename": "NameError",
     "evalue": "name 'traduccion3' is not defined",
     "output_type": "error",
     "traceback": [
      "\u001b[1;31m---------------------------------------------------------------------------\u001b[0m",
      "\u001b[1;31mNameError\u001b[0m                                 Traceback (most recent call last)",
      "Input \u001b[1;32mIn [65]\u001b[0m, in \u001b[0;36m<cell line: 1>\u001b[1;34m()\u001b[0m\n\u001b[0;32m      1\u001b[0m \u001b[38;5;28;01mfor\u001b[39;00m i \u001b[38;5;129;01min\u001b[39;00m traduccion:\n\u001b[1;32m----> 2\u001b[0m     traduccion3 \u001b[38;5;241m=\u001b[39m \u001b[43mtraduccion3\u001b[49m\u001b[38;5;241m.\u001b[39mupdate(traduccion\u001b[38;5;241m.\u001b[39mpopitem())\n\u001b[0;32m      3\u001b[0m traduccion, traduccion3\n",
      "\u001b[1;31mNameError\u001b[0m: name 'traduccion3' is not defined"
     ]
    }
   ],
   "source": [
    "for i in traduccion:\n",
    "    traduccion3 = traduccion3.update(traduccion.popitem())\n",
    "traduccion, traduccion3"
   ]
  },
  {
   "cell_type": "code",
   "execution_count": null,
   "metadata": {},
   "outputs": [
    {
     "data": {
      "text/plain": [
       "(('son', 'are'), tuple)"
      ]
     },
     "execution_count": 66,
     "metadata": {},
     "output_type": "execute_result"
    }
   ],
   "source": [
    "d = traduccion.popitem()\n",
    "d, type(d)"
   ]
  },
  {
   "cell_type": "code",
   "execution_count": null,
   "metadata": {},
   "outputs": [
    {
     "data": {
      "text/plain": [
       "{}"
      ]
     },
     "execution_count": 67,
     "metadata": {},
     "output_type": "execute_result"
    }
   ],
   "source": [
    "traduccion3 = dict()\n",
    "traduccion3"
   ]
  },
  {
   "cell_type": "code",
   "execution_count": null,
   "metadata": {},
   "outputs": [
    {
     "data": {
      "text/plain": [
       "{'es': 'is', 'fue': 'was'}"
      ]
     },
     "execution_count": 68,
     "metadata": {},
     "output_type": "execute_result"
    }
   ],
   "source": [
    "traduccion"
   ]
  },
  {
   "cell_type": "code",
   "execution_count": null,
   "metadata": {},
   "outputs": [
    {
     "data": {
      "text/plain": [
       "({}, {'fueron': 'were', 'son': 'are', 'fue': 'was', 'es': 'is'})"
      ]
     },
     "execution_count": 69,
     "metadata": {},
     "output_type": "execute_result"
    }
   ],
   "source": [
    "traduccion ={'es':'is','fue':'was','son':'are','fueron':'were'}\n",
    "traduccion3 = dict()\n",
    "while len(traduccion) != 0:\n",
    "    eliminado = traduccion.popitem()\n",
    "    eliminado = {eliminado[0]:eliminado[1]}\n",
    "    traduccion3.update(eliminado)\n",
    "traduccion, traduccion3"
   ]
  },
  {
   "cell_type": "code",
   "execution_count": null,
   "metadata": {},
   "outputs": [
    {
     "data": {
      "text/plain": [
       "({}, {'fueron': 'were', 'son': 'are', 'fue': 'was', 'es': 'is'})"
      ]
     },
     "execution_count": 70,
     "metadata": {},
     "output_type": "execute_result"
    }
   ],
   "source": [
    "for i in traduccion:\n",
    "    traduccion3 = traduccion.popitem()\n",
    "traduccion, traduccion3"
   ]
  },
  {
   "cell_type": "markdown",
   "metadata": {},
   "source": [
    "## ¿La i de adentro del for es la misma i del for?"
   ]
  },
  {
   "cell_type": "code",
   "execution_count": null,
   "metadata": {},
   "outputs": [],
   "source": [
    "iterable1 = range(5)\n",
    "for i in iterable1:\n",
    "    i =5"
   ]
  },
  {
   "cell_type": "markdown",
   "metadata": {},
   "source": [
    "### La iteración con while es correcta y comprensible si quiero detener la iteración cuando el iterable esté vacío\n",
    "\n",
    "* Tenga cuidado con el while, no sea que genere un ciclo infinito"
   ]
  },
  {
   "cell_type": "code",
   "execution_count": null,
   "metadata": {},
   "outputs": [
    {
     "data": {
      "text/plain": [
       "({}, {'fueron': 'were', 'son': 'are', 'fue': 'was', 'es': 'is'})"
      ]
     },
     "execution_count": 73,
     "metadata": {},
     "output_type": "execute_result"
    }
   ],
   "source": [
    "while traduccion:\n",
    "    traduccion3 = traduccion.popitem()\n",
    "traduccion, traduccion3"
   ]
  },
  {
   "cell_type": "markdown",
   "metadata": {},
   "source": [
    "## Convertir diccionario a lista de tuplas y viceversa"
   ]
  },
  {
   "cell_type": "code",
   "execution_count": null,
   "metadata": {},
   "outputs": [
    {
     "data": {
      "text/plain": [
       "dict_values(['Liste', 'Wörterbuch', ('Funktion', 'función')])"
      ]
     },
     "execution_count": 74,
     "metadata": {},
     "output_type": "execute_result"
    }
   ],
   "source": [
    "D = {\"list\":\"Liste\", \"dictionary\":\"Wörterbuch\", \"function\":(\"Funktion\", \"función\")} \n",
    "D.values()"
   ]
  },
  {
   "cell_type": "code",
   "execution_count": null,
   "metadata": {},
   "outputs": [
    {
     "data": {
      "text/plain": [
       "[('list', 'Liste'), ('dictionary', 'Wörterbuch'), ('function', 'Funktion')]"
      ]
     },
     "execution_count": 75,
     "metadata": {},
     "output_type": "execute_result"
    }
   ],
   "source": [
    "# Podemos convertirlo a lista de tuplas de dos elementos, pero note que toma solo pares \n",
    "list(D.items())\n",
    "[('list', 'Liste'), ('dictionary', 'Wörterbuch'), ('function', 'Funktion')]"
   ]
  },
  {
   "cell_type": "markdown",
   "metadata": {},
   "source": [
    "## Diccionarios por comprensión\n",
    "\n",
    "Esta es la plantilla general que puede seguir para la comprensión de diccionarios en Python:\n",
    "\n",
    "dict_variable = {clave: valor para (clave, valor) en dictionary.items ()}\n",
    "\n",
    "Esto puede servir como la plantilla básica y más simple. Puede volverse cada vez más complejo a medida que le agregan condiciones."
   ]
  },
  {
   "cell_type": "code",
   "execution_count": null,
   "metadata": {},
   "outputs": [],
   "source": [
    "# Ejemplo en el que se agrega IVA del 16% al valor de un diccionario"
   ]
  },
  {
   "cell_type": "code",
   "execution_count": null,
   "metadata": {},
   "outputs": [],
   "source": [
    "dic_precios = {'cel':5000.00, 'compu':18000.00}"
   ]
  },
  {
   "cell_type": "code",
   "execution_count": null,
   "metadata": {},
   "outputs": [
    {
     "data": {
      "text/plain": [
       "{'cel': 5800.0, 'compu': 20880.0}"
      ]
     },
     "execution_count": 78,
     "metadata": {},
     "output_type": "execute_result"
    }
   ],
   "source": [
    "dic_tot = {k:v*1.16 for (k,v) in dic_precios.items()}\n",
    "dic_tot"
   ]
  },
  {
   "cell_type": "code",
   "execution_count": null,
   "metadata": {},
   "outputs": [
    {
     "name": "stdout",
     "output_type": "stream",
     "text": [
      "{4: 4, 6: 6}\n"
     ]
    }
   ],
   "source": [
    "# Puede usar una o más condiciones\n",
    "# Recuerde que las declaraciones if consecutivas funcionan como si tuvieran cláusulas y entre ellas.\n",
    "\n",
    "dict1 = {1:1,2:2,3:3,4:4,5:5,6:6}\n",
    "dict1_doubleCond = {k:v for (k,v) in dict1.items() if v>2 if v%2 == 0}\n",
    "print(dict1_doubleCond)"
   ]
  },
  {
   "cell_type": "code",
   "execution_count": null,
   "metadata": {},
   "outputs": [
    {
     "name": "stdout",
     "output_type": "stream",
     "text": [
      "{'a': 'impar', 'b': 'par', 'c': 'impar', 'd': 'par', 'e': 'impar', 'f': 'par'}\n"
     ]
    }
   ],
   "source": [
    "# También puede usar cláusulas else\n",
    "\n",
    "dict2 = {'a': 1, 'b': 2, 'c': 3, 'd': 4, 'e': 5, 'f':6}\n",
    "\n",
    "# Identify odd and even entries\n",
    "dict1_tripleCond = {k:('par' if v%2==0 else 'impar') for (k,v) in dict2.items()}\n",
    "\n",
    "print(dict1_tripleCond)"
   ]
  },
  {
   "cell_type": "markdown",
   "metadata": {},
   "source": [
    "\n",
    "## Ejercicios de tarea\n",
    "1) A continuación se muestra una tupla que describe un álbum:\n",
    "\n",
    " (\n",
    " \"El lado oscuro de la luna\",\n",
    " \"Pink Floyd\",\n",
    " 1973,\n",
    " (\n",
    " \"Hablame\",\n",
    " \"Respirar\",\n",
    " \"En la carrera\",\n",
    " \"Hora\",\n",
    " \"El gran concierto en el cielo\",\n",
    " \"Dinero\",\n",
    " \"Nosotros y ellos\",\n",
    " \"Cualquier color que te guste\",\n",
    " \"Daño cerebral\",\n",
    " \"Eclipse\"\n",
    " )\n",
    " )\n",
    "Dentro de la tupla tenemos el nombre del álbum, el artista (en este caso, la banda), el año de lanzamiento y luego otra tupla que contiene la lista de pistas.\n",
    "\n",
    "    a. Convierta esta tupla en un diccionario con clave de los tres primeros elementos y como valor la tupla de pistas.\n",
    "    b. Cree otro diccionario con tres elementos, cada uno de los cuales tendrá álbum, artista y año de lanzamiento como clave y en los tres casos el valor es la tupla de pistas. \n",
    "        + Luego, para cada clave y valor, debe imprimir el nombre de la clave y luego el valor junto a ella.\n",
    "        + Elimine el elemento con clave año de lanzamiento del diccionario que creó. Una vez que haya hecho esto, agregue una nueva clave al diccionario para almacenar la fecha completa de lanzamiento, que fue el 1 de marzo de 1973.\n",
    "        + Intente recuperar uno de los valores que eliminó del diccionario. Esto debería darle un KeyError. Una vez que haya intentado esto, repita el paso utilizando el método get para evitar que se genere la excepción.\n",
    "\n",
    "2) Usando un diccionario por comprensión cree otro diccionario a partir del diccionario \"directorio\" visto en clase concatenando en la llave los apellidos de las personas que están en una lista.\n",
    "\n",
    "3) Cree un diccionario donde la clave sea un número divisible por 2 en un rango de 0 a 10 y su valor sea el cuadrado del número.\n",
    "\n",
    "4) Dada la tupla:\n",
    "\n",
    "a_tuple = ((1, \"a\"), (2, \"b\"))\n",
    "\n",
    "    a. Cree un diccionario donde la llave sean los números\n",
    "    b. Cree otro diccionario donde la llave sean las cadenas usando un diccionario por comprensión.\n"
   ]
  },
  {
   "cell_type": "code",
   "execution_count": null,
   "metadata": {},
   "outputs": [
    {
     "data": {
      "text/plain": [
       "(1, 2, 3)"
      ]
     },
     "execution_count": 81,
     "metadata": {},
     "output_type": "execute_result"
    }
   ],
   "source": [
    "tu =tuple(i for i in (1,2,3))\n",
    "tu"
   ]
  },
  {
   "cell_type": "code",
   "execution_count": null,
   "metadata": {},
   "outputs": [],
   "source": [
    "tupla_album = (\n",
    " \"El lado oscuro de la luna\",\n",
    " \"Pink Floyd\",\n",
    " 1973,\n",
    " (\n",
    " \"Hablame\",\n",
    " \"Respirar\",\n",
    " \"En la carrera\",\n",
    " \"Hora\",\n",
    " \"El gran concierto en el cielo\",\n",
    " \"Dinero\",\n",
    " \"Nosotros y ellos\",\n",
    " \"Cualquier color que te guste\",\n",
    " \"Daño cerebral\",\n",
    " \"Eclipse\"\n",
    " )\n",
    " )\n"
   ]
  },
  {
   "cell_type": "code",
   "execution_count": null,
   "metadata": {},
   "outputs": [
    {
     "data": {
      "text/plain": [
       "{('El lado oscuro de la luna', 'Pink Floyd', 1973): ('Hablame',\n",
       "  'Respirar',\n",
       "  'En la carrera',\n",
       "  'Hora',\n",
       "  'El gran concierto en el cielo',\n",
       "  'Dinero',\n",
       "  'Nosotros y ellos',\n",
       "  'Cualquier color que te guste',\n",
       "  'Daño cerebral',\n",
       "  'Eclipse')}"
      ]
     },
     "execution_count": 83,
     "metadata": {},
     "output_type": "execute_result"
    }
   ],
   "source": [
    "dict_album = {tupla_album[0:3]: tupla_album[3]}\n",
    "dict_album"
   ]
  },
  {
   "cell_type": "markdown",
   "metadata": {},
   "source": [
    "## Ejercicio aplicando Teorema de Bayes\n",
    "\n",
    "En la provincia de Soria, el negocio de acceso a Internet se reparte entre dos operadores, Timofónica y Robafone y dos únicas marcas de routers, Xisco y Nuaweii. En Soria, la cuota de mercado de Timofónica es del 60% y de Robafone el resto. El 70% de los usuarios dispone de router Xisco y el 30% de ambas marcas. Además se sabe que la probabilidad de corte de acceso es 0.1 para usuarios de Timofónica, 0.15 para Robafone y 0.05 para routers Xisco.\n",
    "\n",
    "¿Cuál es la probabilidad de que a un usuario se le corte el Internet?\n",
    "\n",
    "Primero vamos a definir un diccionario pr con las probabilidades que nos da el enunciado. Tenemos varias probabilidades relacionadas con un usuario: operador, router, fallos condicionados, ..."
   ]
  },
  {
   "cell_type": "code",
   "execution_count": null,
   "metadata": {},
   "outputs": [],
   "source": [
    "pr = dict()\n",
    "pr[\"Timofónica\"] = 0.6\n",
    "pr[\"Robafone\"] = 0.4\n",
    "pr[\"Xisco\"] = 0.7\n",
    "pr[\"Xisco Y Nuaweii\"] = 0.3\n",
    "pr[\"Corte | Timofónica\"] = 0.1\n",
    "pr[\"Corte | Robafone\"] = 0.15\n",
    "pr[\"Corte | Xisco\"] = 0.05"
   ]
  },
  {
   "cell_type": "code",
   "execution_count": null,
   "metadata": {},
   "outputs": [
    {
     "data": {
      "text/plain": [
       "{'Timofónica': 0.6,\n",
       " 'Robafone': 0.4,\n",
       " 'Xisco': 0.7,\n",
       " 'Xisco Y Nuaweii': 0.3,\n",
       " 'Corte | Timofónica': 0.1,\n",
       " 'Corte | Robafone': 0.15,\n",
       " 'Corte | Xisco': 0.05}"
      ]
     },
     "execution_count": 85,
     "metadata": {},
     "output_type": "execute_result"
    }
   ],
   "source": [
    "pr"
   ]
  },
  {
   "cell_type": "markdown",
   "metadata": {},
   "source": [
    "Para calcular la probabilidad de corte de un usuario hay que sumar la probabilidad de ser usuario de una compañía y tener un corte y de ser de otra compañía y tener un corte."
   ]
  },
  {
   "cell_type": "code",
   "execution_count": null,
   "metadata": {},
   "outputs": [
    {
     "data": {
      "text/plain": [
       "0.12"
      ]
     },
     "execution_count": 86,
     "metadata": {},
     "output_type": "execute_result"
    }
   ],
   "source": [
    "pr[\"Corte\"] =  pr[\"Corte | Timofónica\"] * pr[\"Timofónica\"] + pr[\"Corte | Robafone\"] * pr[\"Robafone\"]\n",
    "pr[\"Corte\"]"
   ]
  },
  {
   "cell_type": "markdown",
   "metadata": {},
   "source": [
    "En este caso Pr{Corte} = 0.12, o lo que es lo mismo, la probabilidad de que un usuario cualquiera de Soria tenga un corte es del 12%."
   ]
  },
  {
   "cell_type": "markdown",
   "metadata": {},
   "source": [
    "Si se sabe que un usuario tiene la línea cortada, ¿cuál es la probabilidad de que tenga router Xisco en casa?\n",
    "En este caso se pide Pr{Xisco|Corte}. Según el teorema de Bayes, esto es:"
   ]
  },
  {
   "cell_type": "code",
   "execution_count": null,
   "metadata": {},
   "outputs": [
    {
     "data": {
      "text/plain": [
       "0.2917"
      ]
     },
     "execution_count": 87,
     "metadata": {},
     "output_type": "execute_result"
    }
   ],
   "source": [
    "pr[\"Xisco | Corte\"] = pr[\"Xisco\"] * pr[\"Corte | Xisco\"] / pr[\"Corte\"]\n",
    "round(pr[\"Xisco | Corte\"],4)"
   ]
  },
  {
   "cell_type": "markdown",
   "metadata": {},
   "source": [
    "Que da una probabilidad de 0,29. Es decir, si el usuario tiene un corte, la probabilidad de que en su casa tenga un router Xisco es del 29%."
   ]
  },
  {
   "cell_type": "markdown",
   "metadata": {},
   "source": [
    "¿Cuál es la probabilidad de que se produzca un corte a un usuario que no tiene un router Xisco?\n",
    "\n",
    "En este caso se pide Pr{Corte | Nuaweii}. Y tenemos un pequeño problema y es que no sabemos la probabilidad de que un usuario tenga en su casa Nuaweii. Con un poco de manipulación matemática podemos obtener una expresión que no depende de Pr{Nuaweii}.\n",
    "\n",
    "Pr{'Corte|Nuaweii'} = Pr{'Corte ∩ Nuaweii'} / Pr{'Nuaweii'}\n",
    "Pr{'Corte|Nuaweii'} = Pr{'Corte∩(Ω−Xisco)'} / 1 − Pr{'Xisco'}\n",
    "Pr{'Corte|Nuaweii'} = Pr{'Corte−Corte∩Xisco'} / 1 − Pr{'Xisco'}\n",
    "Pr{'Corte|Nuaweii'} = Pr{'Corte'} − Pr{'Corte∩Xisco'} / 1 − Pr{'Xisco'}"
   ]
  },
  {
   "cell_type": "markdown",
   "metadata": {},
   "source": [
    "Se emplea la definición de probabilidad conjunta, que es la probabilidad de ocurrencia de dos o más eventos.\n",
    "\n",
    "De la expresión P(B|A)=P(A∩B)/P(A) se puede despejar P(A∩B)=P(A)P(B|A), expresión llamada Ley de multiplicación de probabilidades.\n",
    "\n",
    "P(A∩B) recibe el nombre de probabilidad conjunta y corresponde a la probabilidad de que se presenten resultados comunes a los eventos A y B.\n",
    "\n",
    "En Python:"
   ]
  },
  {
   "cell_type": "code",
   "execution_count": null,
   "metadata": {},
   "outputs": [
    {
     "data": {
      "text/plain": [
       "0.2833"
      ]
     },
     "execution_count": 88,
     "metadata": {},
     "output_type": "execute_result"
    }
   ],
   "source": [
    "pr[\"Corte | Nuaweii\"] = (pr[\"Corte\"] - pr[\"Xisco\"]*pr[\"Corte | Xisco\"])/(1-pr[\"Xisco\"])\n",
    "round(pr[\"Corte | Nuaweii\"],4) "
   ]
  },
  {
   "cell_type": "markdown",
   "metadata": {},
   "source": [
    "## Extra, extra\n",
    "\n",
    "+ Se define una clase Luchador\n",
    "+ alist es una lista de dos objetos de la clase Luchador\n",
    "+ Se convierte a tupla usando lista por comprensión\n",
    "+ Se convierte a tupla usando expresión generadora"
   ]
  },
  {
   "cell_type": "code",
   "execution_count": null,
   "metadata": {},
   "outputs": [],
   "source": [
    "class Luchador:\n",
    "\n",
    "    # Inicializador / Atributos de instancia\n",
    "    def __init__(self, nombre, edad):\n",
    "        self.nombre = nombre\n",
    "        self.edad = edad\n"
   ]
  },
  {
   "cell_type": "code",
   "execution_count": null,
   "metadata": {},
   "outputs": [],
   "source": [
    "alist = [Luchador('Santo',33), Luchador('Blur Demon',45)]"
   ]
  },
  {
   "cell_type": "code",
   "execution_count": null,
   "metadata": {},
   "outputs": [
    {
     "data": {
      "text/plain": [
       "list"
      ]
     },
     "execution_count": 91,
     "metadata": {},
     "output_type": "execute_result"
    }
   ],
   "source": [
    "type(alist)"
   ]
  },
  {
   "cell_type": "code",
   "execution_count": null,
   "metadata": {},
   "outputs": [
    {
     "data": {
      "text/plain": [
       "(('Santo', 33), ('Blur Demon', 45))"
      ]
     },
     "execution_count": 92,
     "metadata": {},
     "output_type": "execute_result"
    }
   ],
   "source": [
    "tupla = tuple([(elemento.nombre, elemento.edad) for elemento in alist])\n",
    "tupla"
   ]
  },
  {
   "cell_type": "code",
   "execution_count": null,
   "metadata": {},
   "outputs": [
    {
     "data": {
      "text/plain": [
       "(('Santo', 33), ('Blur Demon', 45))"
      ]
     },
     "execution_count": 93,
     "metadata": {},
     "output_type": "execute_result"
    }
   ],
   "source": [
    "tupla = tuple((elemento.nombre, elemento.edad) for elemento in alist)\n",
    "tupla"
   ]
  },
  {
   "cell_type": "code",
   "execution_count": null,
   "metadata": {},
   "outputs": [],
   "source": []
  }
 ],
 "metadata": {
  "kernelspec": {
   "display_name": "Python 3",
   "language": "python",
   "name": "python3"
  },
  "language_info": {
   "codemirror_mode": {
    "name": "ipython",
    "version": 3
   },
   "file_extension": ".py",
   "mimetype": "text/x-python",
   "name": "python",
   "nbconvert_exporter": "python",
   "pygments_lexer": "ipython3",
   "version": "3.9.11"
  },
  "vscode": {
   "interpreter": {
    "hash": "72f235a78b5cf937fd09c1593b6a0e4473f824a03930b62c2c7d9a177b9de8f3"
   }
  }
 },
 "nbformat": 4,
 "nbformat_minor": 4
}
