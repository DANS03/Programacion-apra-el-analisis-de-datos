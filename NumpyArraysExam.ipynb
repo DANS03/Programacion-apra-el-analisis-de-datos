{
 "cells": [
  {
   "cell_type": "code",
   "execution_count": 6,
   "metadata": {},
   "outputs": [],
   "source": [
    "import numpy as np"
   ]
  },
  {
   "attachments": {},
   "cell_type": "markdown",
   "metadata": {},
   "source": [
    "Escribe un programa Python usando numpy para invertir un arreglo (el primer elemento se convierte en el último)\n",
    "\n",
    "La salida del código debe verse así:\n",
    "\n",
    "Arreglo original:\n",
    "\n",
    "[12 13 14 15 16 17 18 19 20 21 22 23 24 25 26 27 28 29 30 31 32 33 34 35 36 37]\n",
    "\n",
    "Arreglo invertido:\n",
    "\n",
    "[37 36 35 34 33 32 31 30 29 28 27 26 25 24 23 22 21 20 19 18 17 16 15 14 13 12]"
   ]
  },
  {
   "cell_type": "code",
   "execution_count": 7,
   "metadata": {},
   "outputs": [
    {
     "data": {
      "text/plain": [
       "array([37, 36, 35, 34, 33, 32, 31, 30, 29, 28, 27, 26, 25, 24, 23, 22, 21,\n",
       "       20, 19, 18, 17, 16, 15, 14, 13, 12])"
      ]
     },
     "execution_count": 7,
     "metadata": {},
     "output_type": "execute_result"
    }
   ],
   "source": [
    "a= np.array([12,13,14,15,16,17,18,19,20,21,22,23,24,25,26,27,28,29,30,31,32,33,34,35,36,37])\n",
    "\n",
    "a = a[::-1]\n",
    "a"
   ]
  },
  {
   "attachments": {},
   "cell_type": "markdown",
   "metadata": {},
   "source": [
    "Escribe un programa Python usando numpy que convierta cualquier arreglo con un tipo compatible a tipo flotante.\n",
    "\n",
    "La salida debe verse así:\n",
    "\n",
    "Arreglo original: [1, 2, 3, 4]\n",
    "\n",
    "Arreglo convertido a flotante: [ 1. 2. 3. 4.]\n",
    "\n",
    "\n",
    "\n",
    "\n",
    "\n",
    "\n",
    "\n",
    "\n"
   ]
  },
  {
   "cell_type": "code",
   "execution_count": 8,
   "metadata": {},
   "outputs": [
    {
     "data": {
      "text/plain": [
       "array([1., 2., 3., 4.])"
      ]
     },
     "execution_count": 8,
     "metadata": {},
     "output_type": "execute_result"
    }
   ],
   "source": [
    "b= np.array([1, 2, 3,4],dtype=float)\n",
    "\n",
    "b"
   ]
  },
  {
   "attachments": {},
   "cell_type": "markdown",
   "metadata": {},
   "source": [
    "Escribe un programa Python usando numpy para convertir una lista a arreglo y una tupla a arreglo. Note el problema de forma en ambos casos.\n",
    "\n",
    "Si las entradas fueran:\n",
    "\n",
    " Lista : [[1, 2, 3], [4, 5, 6, 7, 8]]\n",
    "\n",
    "Tupla: ([8, 4], [1, 2, 3])"
   ]
  },
  {
   "cell_type": "code",
   "execution_count": 10,
   "metadata": {},
   "outputs": [
    {
     "name": "stderr",
     "output_type": "stream",
     "text": [
      "C:\\Users\\david\\AppData\\Local\\Temp\\ipykernel_18532\\3479344271.py:4: VisibleDeprecationWarning: Creating an ndarray from ragged nested sequences (which is a list-or-tuple of lists-or-tuples-or ndarrays with different lengths or shapes) is deprecated. If you meant to do this, you must specify 'dtype=object' when creating the ndarray.\n",
      "  np.asarray(Lista)\n",
      "C:\\Users\\david\\AppData\\Local\\Temp\\ipykernel_18532\\3479344271.py:6: VisibleDeprecationWarning: Creating an ndarray from ragged nested sequences (which is a list-or-tuple of lists-or-tuples-or ndarrays with different lengths or shapes) is deprecated. If you meant to do this, you must specify 'dtype=object' when creating the ndarray.\n",
      "  np.asarray(Tupla)\n"
     ]
    },
    {
     "data": {
      "text/plain": [
       "array([list([8, 4]), list([1, 2, 3])], dtype=object)"
      ]
     },
     "execution_count": 10,
     "metadata": {},
     "output_type": "execute_result"
    }
   ],
   "source": [
    "Lista = [[1, 2, 3], [4, 5, 6, 7, 8]]\n",
    "\n",
    "Tupla =  ([8, 4], [1, 2, 3])\n",
    "np.asarray(Lista)\n",
    "\n",
    "np.asarray(Tupla)"
   ]
  },
  {
   "attachments": {},
   "cell_type": "markdown",
   "metadata": {},
   "source": [
    "Escribe un programa Python usando numpy.append() para añadir valores al final de un arreglo.\n",
    "\n",
    "Las salidas del código deben verse así:\n",
    "\n",
    "Arreglo original: [10, 20, 30]\n",
    "\n",
    "Arreglo tras añadir valores: [10 20 30 40 50 60 70 80 90]"
   ]
  },
  {
   "cell_type": "code",
   "execution_count": 19,
   "metadata": {},
   "outputs": [
    {
     "name": "stdout",
     "output_type": "stream",
     "text": [
      "[10 20 30 40 50 60 70 80 90]\n"
     ]
    }
   ],
   "source": [
    "ArregloOriginal= np.array([10, 20, 30])\n",
    "\n",
    "arrNuevosValores =np.array([40,50,60,70,80,90])\n",
    "\n",
    "ArregloOriginal = np.append(ArregloOriginal,arrNuevosValores) \n",
    "\n",
    "print(ArregloOriginal)\n",
    "\n"
   ]
  },
  {
   "attachments": {},
   "cell_type": "markdown",
   "metadata": {},
   "source": [
    "Escribe un programa Python usando numpy para encontrar la unión de dos arreglos. La unión regresará los valores únicos en cualquiera de los dos arreglos de manera ordenada\n",
    "\n",
    "Las salidas del código deben verse así:\n",
    "\n",
    "array 1: [ 0 10 20 40 60 80]\n",
    "\n",
    "array 2: [10 30 40 50 70]\n",
    "\n",
    "Valores únicos en ambos arreglos de manera ordenada: \n",
    "\n",
    "[ 0 10 20 30 40 50 60 70 80]"
   ]
  },
  {
   "cell_type": "code",
   "execution_count": 22,
   "metadata": {},
   "outputs": [
    {
     "data": {
      "text/plain": [
       "array([ 0, 10, 20, 30, 40, 50, 60, 70, 80])"
      ]
     },
     "execution_count": 22,
     "metadata": {},
     "output_type": "execute_result"
    }
   ],
   "source": [
    "array1 = np.array([0,10,20,40,60,80])\n",
    "\n",
    "array2 = np.array([10,30,40,50,70])\n",
    "\n",
    "arr =  np.append(array1,array2)\n",
    "\n",
    "arr = np.unique(arr)\n",
    "\n",
    "arr"
   ]
  },
  {
   "attachments": {},
   "cell_type": "markdown",
   "metadata": {},
   "source": [
    "Escribe un programa Python usando numpy para crear un arreglo con valores de 12 a 38\n",
    "\n",
    "La salida al imprimir el arreglo debe verse así:\n",
    "\n",
    "[12 13 14 15 16 17 18 19 20 21 22 23 24 25 26 27 28 29 30 31 32 33 34 35 36 37]"
   ]
  },
  {
   "cell_type": "code",
   "execution_count": 26,
   "metadata": {},
   "outputs": [
    {
     "name": "stdout",
     "output_type": "stream",
     "text": [
      "[12 13 14 15 16 17 18 19 20 21 22 23 24 25 26 27 28 29 30 31 32 33 34 35\n",
      " 36 37]\n"
     ]
    }
   ],
   "source": [
    "d = np.arange(12,38)\n",
    "print(d)"
   ]
  },
  {
   "attachments": {},
   "cell_type": "markdown",
   "metadata": {},
   "source": [
    "Complete el siguiente código Python, usando numpy, para encontrar los valores comunes entre dos arreglos.\n",
    "\n",
    "import numpy as np \n",
    "array1 = np.array([0, 10, 20, 40, 60]) \n",
    "print(\"Array1: \",array1) \n",
    "array2 = [0, 40] \n",
    "print(\"Array2: \",array2) \n",
    "print(\"Compara cada elemento del array 1 y array 2\") \n",
    "______________\n",
    "Las salida deben verse así:\n",
    "\n",
    "[ True False False True False]"
   ]
  },
  {
   "cell_type": "code",
   "execution_count": 39,
   "metadata": {},
   "outputs": [
    {
     "name": "stdout",
     "output_type": "stream",
     "text": [
      "Array1:  [ 0 10 20 40 60]\n",
      "Array2:  [0, 40]\n",
      "Compara cada elemento del array 1 y array 2\n"
     ]
    },
    {
     "ename": "ValueError",
     "evalue": "operands could not be broadcast together with shapes (5,) (2,) ",
     "output_type": "error",
     "traceback": [
      "\u001b[1;31m---------------------------------------------------------------------------\u001b[0m",
      "\u001b[1;31mValueError\u001b[0m                                Traceback (most recent call last)",
      "Cell \u001b[1;32mIn[39], line 7\u001b[0m\n\u001b[0;32m      4\u001b[0m \u001b[39mprint\u001b[39m(\u001b[39m\"\u001b[39m\u001b[39mArray2: \u001b[39m\u001b[39m\"\u001b[39m,array2) \n\u001b[0;32m      5\u001b[0m \u001b[39mprint\u001b[39m(\u001b[39m\"\u001b[39m\u001b[39mCompara cada elemento del array 1 y array 2\u001b[39m\u001b[39m\"\u001b[39m) \n\u001b[1;32m----> 7\u001b[0m \u001b[39mprint\u001b[39m(np\u001b[39m.\u001b[39;49mequal(arr1,arr2))\n",
      "\u001b[1;31mValueError\u001b[0m: operands could not be broadcast together with shapes (5,) (2,) "
     ]
    }
   ],
   "source": [
    "\n",
    "arr1 = np.array([0, 10, 20, 40, 60]) \n",
    "print(\"Array1: \",array1) \n",
    "arr2 = [0, 40] \n",
    "print(\"Array2: \",array2) \n",
    "print(\"Compara cada elemento del array 1 y array 2\") \n",
    "\n",
    "print(np.equal(arr1,arr2))\n"
   ]
  },
  {
   "attachments": {},
   "cell_type": "markdown",
   "metadata": {},
   "source": [
    "Escriba código Python usando numpy para encontrar la unión entre dos arreglos. La unión mostrará datos que se encuentren en ambos arreglos.\n",
    "\n",
    "Las salidas del código deben verse así:\n",
    "\n",
    "\n",
    "array1: [ 0 10 20 40 60 80]\n",
    "array2: [10, 30, 40, 50, 70]\n",
    "Valores que se encuentran en los arreglos:\n",
    "[ 0 10 20 30 40 50 60 70 80]"
   ]
  },
  {
   "cell_type": "code",
   "execution_count": 36,
   "metadata": {},
   "outputs": [
    {
     "name": "stdout",
     "output_type": "stream",
     "text": [
      "[ 0 10 20 30 40 50 60 70 80]\n"
     ]
    }
   ],
   "source": [
    "array1 = np.array([0,10,20,40,60,80])\n",
    "\n",
    "array2 = np.array([10,30,40,50,70])\n",
    "\n",
    "arr =  np.append(array1,array2)\n",
    "\n",
    "arr = np.unique(arr)\n",
    "\n",
    "print(arr)\n"
   ]
  }
 ],
 "metadata": {
  "kernelspec": {
   "display_name": "Python 3",
   "language": "python",
   "name": "python3"
  },
  "language_info": {
   "codemirror_mode": {
    "name": "ipython",
    "version": 3
   },
   "file_extension": ".py",
   "mimetype": "text/x-python",
   "name": "python",
   "nbconvert_exporter": "python",
   "pygments_lexer": "ipython3",
   "version": "3.9.11"
  },
  "orig_nbformat": 4
 },
 "nbformat": 4,
 "nbformat_minor": 2
}
