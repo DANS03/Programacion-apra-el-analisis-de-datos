{
 "cells": [
  {
   "attachments": {},
   "cell_type": "markdown",
   "metadata": {},
   "source": [
    "#Práctica 3. Listas y tuplas."
   ]
  },
  {
   "attachments": {},
   "cell_type": "markdown",
   "metadata": {},
   "source": [
    "Tuplas"
   ]
  },
  {
   "attachments": {},
   "cell_type": "markdown",
   "metadata": {},
   "source": [
    "1-Escriba una función que devuelva una tupla con el área y el perímetro (circunferencia) de un círculo. La función recibe como parámetro el diámetro del círculo."
   ]
  },
  {
   "cell_type": "code",
   "execution_count": 4,
   "metadata": {},
   "outputs": [
    {
     "name": "stdout",
     "output_type": "stream",
     "text": [
      "(0.7853981633974483, 1.5707963267948966)\n"
     ]
    }
   ],
   "source": [
    "import math\n",
    "\n",
    "def circle(diametro):\n",
    "    '''Devuelve el area y perimetro de un circulo \n",
    "        diametro: float\n",
    "        return tupla(are, perimetro)    \n",
    "     '''\n",
    "    radio = (diametro/2)\n",
    "    \n",
    "    area = (math.pi *radio**2 )\n",
    "    \n",
    "    perimetro = (2*math.pi*radio**2)\n",
    "\n",
    "    return (area,perimetro)\n",
    "\n",
    "print(circle(1))"
   ]
  },
  {
   "attachments": {},
   "cell_type": "markdown",
   "metadata": {},
   "source": [
    "2-Escriba un código en Python que, dada la siguiente tupla, imprima en una sola línea su longitud, el valor mínimo, el máximo, la media, la desviación estándar, el primer cuartil y tercer cuartil.\n",
    "\n",
    "more_numbers = (11.13, 34.87, 95.59, 82.49, 42.73, 11.12, 95.57)"
   ]
  },
  {
   "cell_type": "code",
   "execution_count": 7,
   "metadata": {},
   "outputs": [
    {
     "name": "stdout",
     "output_type": "stream",
     "text": [
      "(7, 11.12, 95.59, 42.73, 34.715334904779766, 23.0, 89.03)\n"
     ]
    }
   ],
   "source": [
    "import numpy as np\n",
    "\n",
    "def tupleProcess( tuple ):\n",
    "    '''Imprime la longitud, el valor minimo, el valor maximo, la media , la mediana, la desviacion estandar ,el primer cuartil y tercer cuartil\n",
    "        tuple: tuple\n",
    "        return null\n",
    "    '''\n",
    "    length = len(tuple)\n",
    "    tMin = min(tuple)\n",
    "    tMax = max(tuple)\n",
    "    tMeadian = np.median(tuple)\n",
    "    tStandar = np.std(tuple)\n",
    "    tQ1 = np.quantile(tuple,0.25)\n",
    "    tQ3 = np.quantile(tuple,0.75)\n",
    "\n",
    "    return (length,tMin,tMax,tMeadian,tStandar,tQ1,tQ3)\n",
    "\n",
    "more_numbers = (11.13, 34.87, 95.59, 82.49, 42.73, 11.12, 95.57)\n",
    "\n",
    "print(tupleProcess(more_numbers))\n"
   ]
  },
  {
   "attachments": {},
   "cell_type": "markdown",
   "metadata": {},
   "source": [
    "3-Escriba un programa en Python que capture el nombre de una carrera y después el expediente de cada alumno, creando tuplas (carrera, expte). Cada tupla se adicionará a la lista A. Los dos primeros caracteres del expediente indican la carrera (ie: Electrónica; cd: Ciencia de Datos; in: Nanotecnología; is: Sistemas ib: Biotecnología; if: Financiera)\n",
    "Escriba una función a la que se le pase una tupla en la que, si no hay nadie de is, elimine a los de cd y devuelva la tupla resultante. Llame a esta función con la tupla creada."
   ]
  },
  {
   "cell_type": "code",
   "execution_count": 3,
   "metadata": {},
   "outputs": [
    {
     "name": "stdout",
     "output_type": "stream",
     "text": [
      "('is:12312', 'cd:12389', 'if:123123')\n"
     ]
    }
   ],
   "source": [
    "def delTuple( credentials ):\n",
    "    '''Esta funcion recibe una tupla y evalua si en las cadenas existe la sub cadena cd y hace un slice a la tupla\n",
    "        credentials : tuple \n",
    "        return tuple\n",
    "    '''\n",
    "    tempCred = credentials\n",
    "    index = 0\n",
    "    i = 0\n",
    "    while(i < len(credentials)):\n",
    "        \n",
    "        if \"cd\" in credentials[i]:\n",
    "            index = i\n",
    "            credentials = credentials[ :i ] + credentials[ i+1 : ]\n",
    "\n",
    "        i += 1\n",
    "    \n",
    "    return credentials\n",
    "\n",
    "\n",
    "def isIs( credentials ):\n",
    "    '''Esta funcion recibe una tupla y evalua si en las cadenas existe la sub cadena is y ejecuta delTuple si no encuentra is\n",
    "        credentials : tuple \n",
    "        return tuple\n",
    "    '''\n",
    "    cointains = False\n",
    "\n",
    "    for x in credentials:\n",
    "        if \"is\" in x:\n",
    "            cointains =True\n",
    "    \n",
    "    if(cointains):\n",
    "        return(credentials)\n",
    "    else:\n",
    "        return delTuple( credentials )\n",
    "\n",
    "        \n",
    "userList =  input(\"Ingresa tu tupla de credenciales separado por comas: \").split(',')\n",
    "\n",
    "userTuple = tuple(userList)\n",
    "\n",
    "print(isIs(userTuple))"
   ]
  },
  {
   "attachments": {},
   "cell_type": "markdown",
   "metadata": {},
   "source": [
    "4-Escriba código Python que cree una nueva tupla, a partir de la siguiente tupla M, cambiando el nombre de la mascota, usando el operador de Slicing y usando concatenación.\n",
    "M=(‘Filis’,perro,5,10-01-17)"
   ]
  },
  {
   "cell_type": "code",
   "execution_count": 16,
   "metadata": {},
   "outputs": [
    {
     "name": "stdout",
     "output_type": "stream",
     "text": [
      "('Firulais', 'perro', 5, '10-01-17')\n"
     ]
    }
   ],
   "source": [
    "'''Este programa recibe una tupla predefinida y y remplaza un valor mediante un splice\n",
    "    return null\n",
    "'''\n",
    "M=('Filis','perro',5,'10-01-17')\n",
    "\n",
    "newName = input(\"Introduce el nuevo nombre de tu mascota : \")\n",
    "\n",
    "M = (newName,) + M[1:]\n",
    "\n",
    "print(M)"
   ]
  },
  {
   "attachments": {},
   "cell_type": "markdown",
   "metadata": {},
   "source": [
    "5-Recordemos que las tuplas son diferentes de las listas porque son inmutables: no se pueden modificar. Esto significa que no se pueden agregar o quitar elementos de las tuplas, y los elementos no se pueden reemplazar dentro de las tuplas. Sin embargo, puede concatenar 2 o más tuplas para formar una nueva tupla. Escriba una función en Python a la que se le pase una tupla y cualquier cantidad de elementos para adicionarle y devuelva la nueva tupla."
   ]
  },
  {
   "cell_type": "code",
   "execution_count": 19,
   "metadata": {},
   "outputs": [
    {
     "name": "stdout",
     "output_type": "stream",
     "text": [
      "(1, 2, 3, 4, '5', '6', '7', '8', '9')\n"
     ]
    }
   ],
   "source": [
    "def concatTuple( tuple , addition ):\n",
    "    '''Este programa recibe una tupla predefinida y añade nuevos valores a una tupla\n",
    "        tuple : tuple\n",
    "        addition : tuple\n",
    "        return tuple\n",
    "    '''\n",
    "    tuple = tuple + addition\n",
    "\n",
    "    return(tuple)\n",
    "\n",
    "orgTuple =  (1,2,3,4)\n",
    "\n",
    "newValues = input(\"Ingresa tu tupla de valores separado por comas: \").split(',')\n",
    "\n",
    "newTuple = tuple(newValues)\n",
    "\n",
    "print(concatTuple( orgTuple , newTuple ))"
   ]
  },
  {
   "attachments": {},
   "cell_type": "markdown",
   "metadata": {},
   "source": [
    "Listas"
   ]
  },
  {
   "attachments": {},
   "cell_type": "markdown",
   "metadata": {},
   "source": [
    "1-Escriba una función a la que se pasa como parámetro el nombre de un archivo de texto y devuelve una lista con cada línea texto. No olvide manipular los posibles errores en un bloque try-except"
   ]
  },
  {
   "cell_type": "code",
   "execution_count": 12,
   "metadata": {},
   "outputs": [
    {
     "name": "stdout",
     "output_type": "stream",
     "text": [
      "['\"Lorem ipsum dolor sit amet, consectetur adipiscing elit, sed do eiusmod tempor incididunt ut labore et dolore magna aliqua. Ut enim ad minim veniam, quis nostrud exercitation ullamco laboris nisi ut aliquip ex ea commodo consequat. Duis aute irure dolor in reprehenderit in voluptate velit esse cillum dolore eu fugiat nulla pariatur. Excepteur sint occaecat cupidatat non proident, sunt in culpa qui officia deserunt mollit anim id est laborum.\"']\n"
     ]
    }
   ],
   "source": [
    "import tkinter as tk\n",
    "from tkinter import filedialog\n",
    "\n",
    "def readText( text ):\n",
    "    '''Esta funcion recibe una direccion de archivo y lo abre en modo de lectura e imrime las lineas leidas\n",
    "        text : String\n",
    "        return : null\n",
    "    '''\n",
    "    file1 = open(text, 'r')\n",
    "    lines = file1.readlines()\n",
    "    print(lines)\n",
    "\n",
    "text = filedialog.askopenfilename()\n",
    "readText(text)"
   ]
  },
  {
   "attachments": {},
   "cell_type": "markdown",
   "metadata": {},
   "source": [
    "2. Elaborar función que elimina duplicados de una lista de palabras que se pasa como parámetro y devuelve la lista sin duplicados."
   ]
  },
  {
   "cell_type": "code",
   "execution_count": 18,
   "metadata": {},
   "outputs": [
    {
     "name": "stdout",
     "output_type": "stream",
     "text": [
      "[1, 2, 3, 4, 5]\n"
     ]
    }
   ],
   "source": [
    "import collections\n",
    "def delDuplicate ( dList ):\n",
    "    '''Esta funcion recibe una lista y la ordena usando el metodo set\n",
    "        dList : list\n",
    "        return : list\n",
    "    '''\n",
    "    \n",
    "    cleanList = list(set(dList) )\n",
    "    \n",
    "    return cleanList\n",
    "\n",
    "print(delDuplicate([1,1,1,2,4,3,5,5,3]))"
   ]
  },
  {
   "attachments": {},
   "cell_type": "markdown",
   "metadata": {},
   "source": [
    "3. Escriba función en Python a la que se le pasan dos listas de palabras y devuelve lista de palabras sin repetirse (unión) de 2 listas."
   ]
  },
  {
   "cell_type": "code",
   "execution_count": 23,
   "metadata": {},
   "outputs": [
    {
     "name": "stdout",
     "output_type": "stream",
     "text": [
      "[1, 2, 3, 4, 5, 6, 7, 8, 9]\n"
     ]
    }
   ],
   "source": [
    "import collections\n",
    "def delConcatDuplicate ( list1, list2 ):\n",
    "    '''Esta funcion recibe dos listas, las concatena y las ordena usando el metodo set para regresar solo una lista sin duplicados\n",
    "        list1 : list\n",
    "        list2 : list\n",
    "        return : list\n",
    "    '''\n",
    "    cleanConcatList = list(set(list1 + list2) )\n",
    "    \n",
    "    return cleanConcatList\n",
    "\n",
    "\n",
    "list1 = [1,1,1,2,4,3,5,5,3]\n",
    "list2 = [1,7,1,2,4,3,6,8,5,9,9,6,6]\n",
    "print(delConcatDuplicate(list1,list2))"
   ]
  },
  {
   "attachments": {},
   "cell_type": "markdown",
   "metadata": {},
   "source": [
    "4. Escriba función en Python a la que se le pasan dos listas de palabras y devuelve lista de las palabras que están en ambas listas (intersección)."
   ]
  },
  {
   "cell_type": "code",
   "execution_count": 24,
   "metadata": {},
   "outputs": [
    {
     "name": "stdout",
     "output_type": "stream",
     "text": [
      "[1, 2, 3, 4, 5]\n"
     ]
    }
   ],
   "source": [
    "import collections\n",
    "def delDuplicateInter ( list1, list2 ):\n",
    "    '''Esta funcion recibe dos listas y retorna sus intersecciones usando el metodo set\n",
    "        list1 : list\n",
    "        list2 : list\n",
    "        return : list\n",
    "    '''\n",
    "    inteseptionList = list(set(list1).intersection(list2))\n",
    "    \n",
    "    return inteseptionList\n",
    "\n",
    "\n",
    "list1 = [1,1,1,2,4,3,5,5,3]\n",
    "list2 = [1,7,1,2,4,3,6,8,5,9,9,6,6]\n",
    "print(delDuplicateInter(list1,list2))"
   ]
  },
  {
   "attachments": {},
   "cell_type": "markdown",
   "metadata": {},
   "source": [
    "5.  Escriba función en Python a la que se le pasan dos listas de palabras y devuelve lista con las palabras de la primera lista, pero no de la segunda (diferencia de la primera menos la segunda)."
   ]
  },
  {
   "cell_type": "code",
   "execution_count": 32,
   "metadata": {},
   "outputs": [
    {
     "name": "stdout",
     "output_type": "stream",
     "text": [
      "[1, 10, 23]\n"
     ]
    }
   ],
   "source": [
    "import collections\n",
    "def delAfromB ( list1, list2 ):\n",
    "    '''Esta funcion recibe dos listas y retorna sus los valores dentro de A que no estan en B usando el metodo set junto a difference\n",
    "        list1 : list\n",
    "        list2 : list\n",
    "        return : list\n",
    "    '''\n",
    "    differenceList = c = list(set(list1).difference(set(list2)))\n",
    "    \n",
    "    return differenceList\n",
    "\n",
    "\n",
    "list1 = [1,1,1,2,4,3,5,5,3,10,23]\n",
    "list2 = [7,2,4,3,6,8,5,9,9,6,6]\n",
    "print(delAfromB(list1,list2))"
   ]
  },
  {
   "attachments": {},
   "cell_type": "markdown",
   "metadata": {},
   "source": [
    "6. Escriba función en Python a la que se le pasan dos listas de palabras y devuelve lista de las palabras  que no están en ambas (diferencia simétrica)."
   ]
  },
  {
   "cell_type": "code",
   "execution_count": 29,
   "metadata": {},
   "outputs": [
    {
     "name": "stdout",
     "output_type": "stream",
     "text": [
      "[1, 6, 7, 8, 9]\n"
     ]
    }
   ],
   "source": [
    "import collections\n",
    "def delCommon ( list1, list2 ):\n",
    "    '''Esta funcion recibe dos listas y retorna sus diferencias usando el metodo set junto a symmetric_difference\n",
    "        list1 : list\n",
    "        list2 : list\n",
    "        return : list\n",
    "    '''\n",
    "    differenceList = list(set(list1).symmetric_difference(set(list2)))\n",
    "    \n",
    "    return differenceList\n",
    "\n",
    "\n",
    "list1 = [1,1,1,2,4,3,5,5,3]\n",
    "list2 = [7,2,4,3,6,8,5,9,9,6,6]\n",
    "print(delCommon(list1,list2))"
   ]
  },
  {
   "attachments": {},
   "cell_type": "markdown",
   "metadata": {},
   "source": [
    "7. Escriba una función main() en un script que pueda ser importado como módulo posteriormente, sin que se ejecute automáticamente la función main(). La función main deberá:\n",
    "\n",
    "Abrir dos archivos de textos para lectura:\n",
    "Leer cada archivo y colocarlos en listas de palabras que estén separadas por espacio en dicho texto\n",
    "Imprimir:\n",
    "Las palabras que están en ambas listas sin repetir ninguna\n",
    "Las palabras que se repiten en ambas listas\n",
    "Las palabras que están en la primera lista y no están en la segunda\n",
    "Las palabras que están en la segunda lista y no en la primera\n",
    "Las palabras que están en la primera lista y en la segunda, pero no en amabas"
   ]
  },
  {
   "cell_type": "code",
   "execution_count": 51,
   "metadata": {},
   "outputs": [
    {
     "name": "stdout",
     "output_type": "stream",
     "text": [
      "['\"Sed ut perspiciatis unde omnis iste natus error sit voluptatem accusantium doloremque laudantium, totam rem aperiam, eaque ipsa quae ab illo inventore veritatis et quasi architecto beatae vitae dicta sunt explicabo. Nemo enim ipsam voluptatem quia voluptas sit aspernatur aut odit aut fugit, sed quia consequuntur magni dolores eos qui ratione voluptatem sequi nesciunt. Neque porro quisquam est, qui dolorem ipsum quia dolor sit amet, consectetur, adipisci velit, sed quia non numquam eius modi tempora incidunt ut labore et dolore magnam aliquam quaerat voluptatem. Ut enim ad minima veniam, quis nostrum exercitationem ullam corporis suscipit laboriosam, nisi ut aliquid ex ea commodi consequatur? Quis autem vel eum iure reprehenderit qui in ea voluptate velit esse quam nihil molestiae consequatur, vel illum qui dolorem eum fugiat quo voluptas nulla pariatur?\"', '\"Lorem ipsum dolor sit amet, consectetur adipiscing elit, sed do eiusmod tempor incididunt ut labore et dolore magna aliqua. Ut enim ad minim veniam, quis nostrud exercitation ullamco laboris nisi ut aliquip ex ea commodo consequat. Duis aute irure dolor in reprehenderit in voluptate velit esse cillum dolore eu fugiat nulla pariatur. Excepteur sint occaecat cupidatat non proident, sunt in culpa qui officia deserunt mollit anim id est laborum.\"', '\"Lorem ipsum dolor sit amet, consectetur adipiscing elit, sed do eiusmod tempor incididunt ut labore et dolore magna aliqua. Ut enim ad minim veniam, quis nostrud exercitation ullamco laboris nisi ut aliquip ex ea commodo consequat. Duis aute irure dolor in reprehenderit in voluptate velit esse cillum dolore eu fugiat nulla pariatur. Excepteur sint occaecat cupidatat non proident, sunt in culpa qui officia deserunt mollit anim id est laborum.\"\\n']\n",
      "['\"Sed ut perspiciatis unde omnis iste natus error sit voluptatem accusantium doloremque laudantium, totam rem aperiam, eaque ipsa quae ab illo inventore veritatis et quasi architecto beatae vitae dicta sunt explicabo. Nemo enim ipsam voluptatem quia voluptas sit aspernatur aut odit aut fugit, sed quia consequuntur magni dolores eos qui ratione voluptatem sequi nesciunt. Neque porro quisquam est, qui dolorem ipsum quia dolor sit amet, consectetur, adipisci velit, sed quia non numquam eius modi tempora incidunt ut labore et dolore magnam aliquam quaerat voluptatem. Ut enim ad minima veniam, quis nostrum exercitationem ullam corporis suscipit laboriosam, nisi ut aliquid ex ea commodi consequatur? Quis autem vel eum iure reprehenderit qui in ea voluptate velit esse quam nihil molestiae consequatur, vel illum qui dolorem eum fugiat quo voluptas nulla pariatur?\"', '\"Lorem ipsum dolor sit amet, consectetur adipiscing elit, sed do eiusmod tempor incididunt ut labore et dolore magna aliqua. Ut enim ad minim veniam, quis nostrud exercitation ullamco laboris nisi ut aliquip ex ea commodo consequat. Duis aute irure dolor in reprehenderit in voluptate velit esse cillum dolore eu fugiat nulla pariatur. Excepteur sint occaecat cupidatat non proident, sunt in culpa qui officia deserunt mollit anim id est laborum.\"', '\"Lorem ipsum dolor sit amet, consectetur adipiscing elit, sed do eiusmod tempor incididunt ut labore et dolore magna aliqua. Ut enim ad minim veniam, quis nostrud exercitation ullamco laboris nisi ut aliquip ex ea commodo consequat. Duis aute irure dolor in reprehenderit in voluptate velit esse cillum dolore eu fugiat nulla pariatur. Excepteur sint occaecat cupidatat non proident, sunt in culpa qui officia deserunt mollit anim id est laborum.\"\\n']\n",
      "[]\n",
      "['\"Sed ut perspiciatis unde omnis iste natus error sit voluptatem accusantium doloremque laudantium, totam rem aperiam, eaque ipsa quae ab illo inventore veritatis et quasi architecto beatae vitae dicta sunt explicabo. Nemo enim ipsam voluptatem quia voluptas sit aspernatur aut odit aut fugit, sed quia consequuntur magni dolores eos qui ratione voluptatem sequi nesciunt. Neque porro quisquam est, qui dolorem ipsum quia dolor sit amet, consectetur, adipisci velit, sed quia non numquam eius modi tempora incidunt ut labore et dolore magnam aliquam quaerat voluptatem. Ut enim ad minima veniam, quis nostrum exercitationem ullam corporis suscipit laboriosam, nisi ut aliquid ex ea commodi consequatur? Quis autem vel eum iure reprehenderit qui in ea voluptate velit esse quam nihil molestiae consequatur, vel illum qui dolorem eum fugiat quo voluptas nulla pariatur?\"', '\"Lorem ipsum dolor sit amet, consectetur adipiscing elit, sed do eiusmod tempor incididunt ut labore et dolore magna aliqua. Ut enim ad minim veniam, quis nostrud exercitation ullamco laboris nisi ut aliquip ex ea commodo consequat. Duis aute irure dolor in reprehenderit in voluptate velit esse cillum dolore eu fugiat nulla pariatur. Excepteur sint occaecat cupidatat non proident, sunt in culpa qui officia deserunt mollit anim id est laborum.\"\\n']\n",
      "['\"Lorem ipsum dolor sit amet, consectetur adipiscing elit, sed do eiusmod tempor incididunt ut labore et dolore magna aliqua. Ut enim ad minim veniam, quis nostrud exercitation ullamco laboris nisi ut aliquip ex ea commodo consequat. Duis aute irure dolor in reprehenderit in voluptate velit esse cillum dolore eu fugiat nulla pariatur. Excepteur sint occaecat cupidatat non proident, sunt in culpa qui officia deserunt mollit anim id est laborum.\"\\n', '\"Sed ut perspiciatis unde omnis iste natus error sit voluptatem accusantium doloremque laudantium, totam rem aperiam, eaque ipsa quae ab illo inventore veritatis et quasi architecto beatae vitae dicta sunt explicabo. Nemo enim ipsam voluptatem quia voluptas sit aspernatur aut odit aut fugit, sed quia consequuntur magni dolores eos qui ratione voluptatem sequi nesciunt. Neque porro quisquam est, qui dolorem ipsum quia dolor sit amet, consectetur, adipisci velit, sed quia non numquam eius modi tempora incidunt ut labore et dolore magnam aliquam quaerat voluptatem. Ut enim ad minima veniam, quis nostrum exercitationem ullam corporis suscipit laboriosam, nisi ut aliquid ex ea commodi consequatur? Quis autem vel eum iure reprehenderit qui in ea voluptate velit esse quam nihil molestiae consequatur, vel illum qui dolorem eum fugiat quo voluptas nulla pariatur?\"', '\"Lorem ipsum dolor sit amet, consectetur adipiscing elit, sed do eiusmod tempor incididunt ut labore et dolore magna aliqua. Ut enim ad minim veniam, quis nostrud exercitation ullamco laboris nisi ut aliquip ex ea commodo consequat. Duis aute irure dolor in reprehenderit in voluptate velit esse cillum dolore eu fugiat nulla pariatur. Excepteur sint occaecat cupidatat non proident, sunt in culpa qui officia deserunt mollit anim id est laborum.\"']\n"
     ]
    }
   ],
   "source": [
    "from main import main \n",
    "\n",
    "text1 =\"demofile1.txt\"\n",
    "text2 =\"demofile2.txt\"\n",
    "\n",
    "main(text1,text2)"
   ]
  }
 ],
 "metadata": {
  "kernelspec": {
   "display_name": "Python 3",
   "language": "python",
   "name": "python3"
  },
  "language_info": {
   "codemirror_mode": {
    "name": "ipython",
    "version": 3
   },
   "file_extension": ".py",
   "mimetype": "text/x-python",
   "name": "python",
   "nbconvert_exporter": "python",
   "pygments_lexer": "ipython3",
<<<<<<< HEAD
   "version": "3.11.0"
=======
   "version": "3.11.1"
>>>>>>> e9f9c14b81a7f8cb4d89edfa482a1cc3411936f1
  },
  "orig_nbformat": 4,
  "vscode": {
   "interpreter": {
    "hash": "6a2a0214d38df7dcc88d60fd0083ce83592ef4b41f72cfba9b9d75b1af5e7e91"
   }
  }
 },
 "nbformat": 4,
 "nbformat_minor": 2
}
