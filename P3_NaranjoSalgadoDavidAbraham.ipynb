{
 "cells": [
  {
   "attachments": {},
   "cell_type": "markdown",
   "metadata": {},
   "source": [
    "#Práctica 3. Listas y tuplas."
   ]
  },
  {
   "attachments": {},
   "cell_type": "markdown",
   "metadata": {},
   "source": [
    "Tuplas"
   ]
  },
  {
   "attachments": {},
   "cell_type": "markdown",
   "metadata": {},
   "source": [
    "1-Escriba una función que devuelva una tupla con el área y el perímetro (circunferencia) de un círculo. La función recibe como parámetro el diámetro del círculo."
   ]
  },
  {
   "cell_type": "code",
   "execution_count": 4,
   "metadata": {},
   "outputs": [
    {
     "name": "stdout",
     "output_type": "stream",
     "text": [
      "(0.7853981633974483, 1.5707963267948966)\n"
     ]
    }
   ],
   "source": [
    "import math\n",
    "\n",
    "def circle(diametro):\n",
    "    '''Devuelve el area y perimetro de un circulo \n",
    "        diametro: float\n",
    "        return tupla(are, perimetro)    \n",
    "     '''\n",
    "    radio = (diametro/2)\n",
    "    \n",
    "    area = (math.pi *radio**2 )\n",
    "    \n",
    "    perimetro = (2*math.pi*radio**2)\n",
    "\n",
    "    return (area,perimetro)\n",
    "\n",
    "print(circle(1))"
   ]
  },
  {
   "attachments": {},
   "cell_type": "markdown",
   "metadata": {},
   "source": [
    "2-Escriba un código en Python que, dada la siguiente tupla, imprima en una sola línea su longitud, el valor mínimo, el máximo, la media, la desviación estándar, el primer cuartil y tercer cuartil.\n",
    "\n",
    "more_numbers = (11.13, 34.87, 95.59, 82.49, 42.73, 11.12, 95.57)"
   ]
  },
  {
   "cell_type": "code",
   "execution_count": 16,
   "metadata": {},
   "outputs": [
    {
     "name": "stdout",
     "output_type": "stream",
     "text": [
      "89.03\n"
     ]
    }
   ],
   "source": [
    "import numpy as np\n",
    "\n",
    "def tupleProcess( tuple ):\n",
    "    '''Imprime la longitud, el valor minimo, el valor maximo, la media , la mediana, la desviacion estandar ,el primer cuartil y tercer cuartil\n",
    "        tuple: tuple\n",
    "        return null\n",
    "    '''\n",
    "    length = len(tuple)\n",
    "    tMin = min(tuple)\n",
    "    tMax = max(tuple)\n",
    "    tMean = np.mean(tuple) \n",
    "    tMedian = np.median(tuple)\n",
    "    tStandarVariation = np.std(tuple)\n",
    "    TFQuartile = np.percentile(tuple,25)\n",
    "    TF3Quartile = np.percentile(tuple,75)\n",
    "\n",
    "    print(TF3Quartile)\n",
    "\n",
    "\n",
    "more_numbers = (11.13, 34.87, 95.59, 82.49, 42.73, 11.12, 95.57)\n",
    "\n",
    "tupleProcess(more_numbers)\n"
   ]
  },
  {
   "attachments": {},
   "cell_type": "markdown",
   "metadata": {},
   "source": [
    "3-Escriba un programa en Python que capture el nombre de una carrera y después el expediente de cada alumno, creando tuplas (carrera, expte). Cada tupla se adicionará a la lista A. Los dos primeros caracteres del expediente indican la carrera (ie: Electrónica; cd: Ciencia de Datos; in: Nanotecnología; is: Sistemas ib: Biotecnología; if: Financiera)\n",
    "Escriba una función a la que se le pase una tupla en la que, si no hay nadie de is, elimine a los de cd y devuelva la tupla resultante. Llame a esta función con la tupla creada."
   ]
  },
  {
   "cell_type": "code",
   "execution_count": null,
   "metadata": {},
   "outputs": [],
   "source": []
  },
  {
   "attachments": {},
   "cell_type": "markdown",
   "metadata": {},
   "source": [
    "4-Escriba código Python que cree una nueva tupla, a partir de la siguiente tupla M, cambiando el nombre de la mascota, usando el operador de Slicing y usando concatenación.\n",
    "M=(‘Filis’,perro,5,10-01-17)"
   ]
  },
  {
   "cell_type": "code",
   "execution_count": null,
   "metadata": {},
   "outputs": [],
   "source": []
  },
  {
   "attachments": {},
   "cell_type": "markdown",
   "metadata": {},
   "source": [
    "5-Recordemos que las tuplas son diferentes de las listas porque son inmutables: no se pueden modificar. Esto significa que no se pueden agregar o quitar elementos de las tuplas, y los elementos no se pueden reemplazar dentro de las tuplas. Sin embargo, puede concatenar 2 o más tuplas para formar una nueva tupla. Escriba una función en Python a la que se le pase una tupla y cualquier cantidad de elementos para adicionarle y devuelva la nueva tupla."
   ]
  },
  {
   "cell_type": "code",
   "execution_count": null,
   "metadata": {},
   "outputs": [],
   "source": []
  },
  {
   "attachments": {},
   "cell_type": "markdown",
   "metadata": {},
   "source": [
    "Listas"
   ]
  },
  {
   "attachments": {},
   "cell_type": "markdown",
   "metadata": {},
   "source": [
    "1-Escriba una función a la que se pasa como parámetro el nombre de un archivo de texto y devuelve una lista con cada línea texto. No olvide manipular los posibles errores en un bloque try-except"
   ]
  },
  {
   "cell_type": "code",
   "execution_count": null,
   "metadata": {},
   "outputs": [],
   "source": []
  },
  {
   "attachments": {},
   "cell_type": "markdown",
   "metadata": {},
   "source": [
    "2. Elaborar función que elimina duplicados de una lista de palabras que se pasa como parámetro y devuelve la lista sin duplicados."
   ]
  },
  {
   "cell_type": "code",
   "execution_count": null,
   "metadata": {},
   "outputs": [],
   "source": []
  },
  {
   "attachments": {},
   "cell_type": "markdown",
   "metadata": {},
   "source": [
    "3. Escriba función en Python a la que se le pasan dos listas de palabras y devuelve lista de palabras sin repetirse (unión) de 2 listas."
   ]
  },
  {
   "cell_type": "code",
   "execution_count": null,
   "metadata": {},
   "outputs": [],
   "source": []
  },
  {
   "attachments": {},
   "cell_type": "markdown",
   "metadata": {},
   "source": [
    "4. Escriba función en Python a la que se le pasan dos listas de palabras y devuelve lista de las palabras que están en ambas listas (intersección)."
   ]
  },
  {
   "cell_type": "code",
   "execution_count": null,
   "metadata": {},
   "outputs": [],
   "source": []
  },
  {
   "attachments": {},
   "cell_type": "markdown",
   "metadata": {},
   "source": [
    "5.  Escriba función en Python a la que se le pasan dos listas de palabras y devuelve lista con las palabras de la primera lista, pero no de la segunda (diferencia de la primera menos la segunda)."
   ]
  },
  {
   "cell_type": "code",
   "execution_count": null,
   "metadata": {},
   "outputs": [],
   "source": []
  },
  {
   "attachments": {},
   "cell_type": "markdown",
   "metadata": {},
   "source": [
    "6. Escriba función en Python a la que se le pasan dos listas de palabras y devuelve lista de las palabras  que no están en ambas (diferencia simétrica)."
   ]
  },
  {
   "cell_type": "code",
   "execution_count": null,
   "metadata": {},
   "outputs": [],
   "source": []
  },
  {
   "attachments": {},
   "cell_type": "markdown",
   "metadata": {},
   "source": [
    "7. Escriba una función main() en un script que pueda ser importado como módulo posteriormente, sin que se ejecute automáticamente la función main(). La función main deberá:\n",
    "\n",
    "Abrir dos archivos de textos para lectura:\n",
    "Leer cada archivo y colocarlos en listas de palabras que estén separadas por espacio en dicho texto\n",
    "Imprimir:\n",
    "Las palabras que están en ambas listas sin repetir ninguna\n",
    "Las palabras que se repiten en ambas listas\n",
    "Las palabras que están en la primera lista y no están en la segunda\n",
    "Las palabras que están en la segunda lista y no en la primera\n",
    "Las palabras que están en la primera lista y en la segunda, pero no en amabas"
   ]
  },
  {
   "cell_type": "markdown",
   "metadata": {},
   "source": []
  }
 ],
 "metadata": {
  "kernelspec": {
   "display_name": "Python 3",
   "language": "python",
   "name": "python3"
  },
  "language_info": {
   "codemirror_mode": {
    "name": "ipython",
    "version": 3
   },
   "file_extension": ".py",
   "mimetype": "text/x-python",
   "name": "python",
   "nbconvert_exporter": "python",
   "pygments_lexer": "ipython3",
   "version": "3.11.1"
  },
  "orig_nbformat": 4,
  "vscode": {
   "interpreter": {
    "hash": "6a2a0214d38df7dcc88d60fd0083ce83592ef4b41f72cfba9b9d75b1af5e7e91"
   }
  }
 },
 "nbformat": 4,
 "nbformat_minor": 2
}
