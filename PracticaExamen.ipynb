{
 "cells": [
  {
   "attachments": {},
   "cell_type": "markdown",
   "metadata": {},
   "source": [
    "¿Cuál de los siguientes enunciados es verdad sobre los diccionarios en Python?\n",
    "\n",
    "-Se accede a los diccionarios con keys: Verdadero, los diccionarios se acceden mediante la clave correspondiente a cada valor.\n",
    "\n",
    "-Los diccionarios son mutables: Verdadero, los diccionarios son estructuras de datos mutables, lo que significa que se pueden modificar agregando, eliminando o actualizando elementos.\n",
    "\n",
    "-Los diccionarios pueden ser anidados a cualquier profundidad: Verdadero, los diccionarios pueden contener cualquier tipo de objeto, incluidos otros diccionarios, lo que permite anidarlos a cualquier profundidad.\n"
   ]
  },
  {
   "attachments": {},
   "cell_type": "markdown",
   "metadata": {},
   "source": [
    "Escriba un código en Python, usando comprensión de listas, que le permita encontrar todos los números entre 1 y 1000 (inclusivos) que sean divisibles entre 7\n"
   ]
  },
  {
   "attachments": {},
   "cell_type": "markdown",
   "metadata": {},
   "source": []
  },
  {
   "cell_type": "code",
   "execution_count": 1,
   "metadata": {},
   "outputs": [
    {
     "name": "stdout",
     "output_type": "stream",
     "text": [
      "[7, 14, 21, 28, 35, 42, 49, 56, 63, 70, 77, 84, 91, 98, 105, 112, 119, 126, 133, 140, 147, 154, 161, 168, 175, 182, 189, 196, 203, 210, 217, 224, 231, 238, 245, 252, 259, 266, 273, 280, 287, 294, 301, 308, 315, 322, 329, 336, 343, 350, 357, 364, 371, 378, 385, 392, 399, 406, 413, 420, 427, 434, 441, 448, 455, 462, 469, 476, 483, 490, 497, 504, 511, 518, 525, 532, 539, 546, 553, 560, 567, 574, 581, 588, 595, 602, 609, 616, 623, 630, 637, 644, 651, 658, 665, 672, 679, 686, 693, 700, 707, 714, 721, 728, 735, 742, 749, 756, 763, 770, 777, 784, 791, 798, 805, 812, 819, 826, 833, 840, 847, 854, 861, 868, 875, 882, 889, 896, 903, 910, 917, 924, 931, 938, 945, 952, 959, 966, 973, 980, 987, 994]\n"
     ]
    }
   ],
   "source": [
    "divSiete = [num for num in range(1,1000+1) if num % 7  == 0 ]\n",
    "print(divSiete)"
   ]
  },
  {
   "attachments": {},
   "cell_type": "markdown",
   "metadata": {},
   "source": [
    "Escriba un código en Python con lista por comprensión que permita contar el número de espacios en un string e imprima la cantidad total de espacios."
   ]
  },
  {
   "cell_type": "code",
   "execution_count": 2,
   "metadata": {},
   "outputs": [
    {
     "name": "stdout",
     "output_type": "stream",
     "text": [
      "[' ', ' ', ' ', ' ', ' ', ' ']\n"
     ]
    }
   ],
   "source": [
    "palabra = \"asd as as ads   asd\"\n",
    "listaEspacio = [letra for letra in \"asd as as ads   asd\" if letra  == \" \" ]\n",
    "print(listaEspacio)"
   ]
  },
  {
   "attachments": {},
   "cell_type": "markdown",
   "metadata": {},
   "source": [
    "Escribe un código Python, usando listas por comprensión, que permita encontrar palabras en un string que contengan menos de 4 letras."
   ]
  },
  {
   "cell_type": "code",
   "execution_count": 6,
   "metadata": {},
   "outputs": [
    {
     "name": "stdout",
     "output_type": "stream",
     "text": [
      "['asd', 'as', 'ads', 'asd']\n"
     ]
    }
   ],
   "source": [
    "palabra = \"asd   asdws  sssas as ads   asd sdasdsas\"\n",
    "palabraEspacio = [word for word in palabra.split() if len(word) < 4]\n",
    "print(palabraEspacio)\n",
    "\n"
   ]
  },
  {
   "attachments": {},
   "cell_type": "markdown",
   "metadata": {},
   "source": [
    "Complete el siguiente código Python, de manera que extraiga año, mes y día usando función lambda"
   ]
  },
  {
   "cell_type": "code",
   "execution_count": 16,
   "metadata": {},
   "outputs": [
    {
     "name": "stdout",
     "output_type": "stream",
     "text": [
      "2023-03-21 10:18:20.021151\n",
      "2023\n",
      "3\n",
      "21\n",
      "10:18:20.021151\n"
     ]
    }
   ],
   "source": [
    "import datetime \n",
    "now = datetime.datetime.now() \n",
    "print(now) \n",
    "\n",
    "\n",
    "year = lambda date: date.year\n",
    "\n",
    " \n",
    "month = lambda date: date.month\n",
    "\n",
    " \n",
    "day = lambda date: date.day\n",
    "\n",
    " \n",
    "t = lambda date: date.strftime(\"%H:%M:%S.%f\")\n",
    "\n",
    " \n",
    "print(year(now)) \n",
    "print(month(now)) \n",
    "print(day(now)) \n",
    "print(t(now))\n",
    "\n",
    "#https://www.w3schools.com/python/python_lambda.asp#:~:text=A%20lambda%20function%20is%20a,can%20only%20have%20one%20expression.\n",
    "#https://www.w3schools.com/python/python_datetime.asp"
   ]
  },
  {
   "attachments": {},
   "cell_type": "markdown",
   "metadata": {},
   "source": [
    "Escribe un programa Python para filtrar una lista de enteros usando lambda\n",
    "\n",
    "El resultado debe verse así:\n",
    "\n",
    "Lista original: [1,2,3,4,5,6,7,8,9,10]\n",
    "\n",
    "Números pares de la lista: [2,4,6,8,10]\n",
    "\n",
    "Números impares de la lista: [1,3,5,7,9]"
   ]
  },
  {
   "cell_type": "code",
   "execution_count": 9,
   "metadata": {},
   "outputs": [
    {
     "name": "stdout",
     "output_type": "stream",
     "text": [
      "Lista original:[1, 2, 3, 4, 5, 6, 7, 8, 9, 10]\n",
      "Números pares de la lista:[2, 4, 6, 8, 10]\n",
      "Números impares de la lista: [1, 3, 5, 7, 9]\n"
     ]
    }
   ],
   "source": [
    "original=[1,2,3,4,5,6,7,8,9,10]\n",
    "pares = []\n",
    "impares = []\n",
    "\n",
    "separadorPares = list(filter(lambda x : x % 2 == 0, original))\n",
    "separadorImpares = list(filter(lambda x : x % 2 != 0, original))\n",
    "\n",
    "print(\"Lista original:\" + str(original[0:]))\n",
    "\n",
    "print(\"Números pares de la lista:\"+ str(separadorPares[0:]))\n",
    "print(\"Números impares de la lista: \"+ str(separadorImpares[0:]))\n"
   ]
  },
  {
   "attachments": {},
   "cell_type": "markdown",
   "metadata": {},
   "source": [
    "Escriba una función imp_lineas(list_arch) que, dada una lista de nombres de archivos, imprima cada una de sus líneas. La función debe usar la siguiente función generadora:\n",
    "\n",
    "def readfiles(filenames):\n",
    "    ''' filenames: lista de nombres de archivos con su ruta'''\n",
    "    for f in filenames:\n",
    "        for line in open(f):\n",
    "            yield line"
   ]
  },
  {
   "cell_type": "code",
   "execution_count": null,
   "metadata": {},
   "outputs": [],
   "source": [
    "def imp_lineas(list_arch,subcadena):\n",
    "    for line in readfiles(list_arch):\n",
    "        if(line)\n",
    "print(line)\n"
   ]
  },
  {
   "attachments": {},
   "cell_type": "markdown",
   "metadata": {},
   "source": [
    "Escribe una función findfiles(directorio) que descienda repetidamente la estructura por el directorio especificado y genere caminos para todos los archivos en la estructura, y que use la siguiente función generadora:\n",
    "\n",
    "def readfiles(filenames):\n",
    "    ''' filenames: lista de nombres de archivos con su ruta''' \n",
    "    for f in filenames: \n",
    "        for line in open(f): \n",
    "            yield line"
   ]
  },
  {
   "cell_type": "code",
   "execution_count": null,
   "metadata": {},
   "outputs": [],
   "source": [
    "import os\n",
    "\n",
    "def findfiles(directorio):\n",
    "    for root, dirs, files in os.walk(directorio):\n",
    "        for name in files:\n",
    "            yield os.path.join(root, name)"
   ]
  },
  {
   "attachments": {},
   "cell_type": "markdown",
   "metadata": {},
   "source": [
    "Escriba un código Python usando numpy para obtener los valores e indices de los elementos que sean mayores a 10 en un arreglo x.\n",
    "\n",
    "TIP: np.nonzero(a) Retorna los índices de los elementos que no son cero\n",
    "\n",
    "La salida debe verse así:\n",
    "\n",
    "Arreglo original:\n",
    "[[ 0 10 20]\n",
    "[20 30 40]]\n",
    "Valores mayores a 10 = [20 20 30 40]\n",
    "Sus índices en el arreglo original son:\n",
    "\n",
    "Posición por filas: [0, 1, 1, 1])\n",
    "\n",
    "Posición por columnas: [2, 0, 1, 2]"
   ]
  },
  {
   "cell_type": "code",
   "execution_count": 11,
   "metadata": {},
   "outputs": [
    {
     "name": "stdout",
     "output_type": "stream",
     "text": [
      "Arreglo original:\n",
      " [[ 0 10 20]\n",
      " [20 30 40]]\n",
      "Valores mayores a 10 = [20 20 30 40]\n",
      "Sus índices en el arreglo original son:\n",
      "Posición por filas: [0 1 1 1]\n",
      "Posición por columnas: [2 0 1 2]\n"
     ]
    }
   ],
   "source": [
    "import numpy as np\n",
    "x = np.array([[0, 10, 20], [20, 30, 40]])\n",
    "\n",
    "mayores_a_10 = x[x > 10]\n",
    "\n",
    "indices = np.nonzero(x > 10)\n",
    "\n",
    "print(\"Arreglo original:\\n\", x)\n",
    "print(\"Valores mayores a 10 =\", mayores_a_10)\n",
    "print(\"Sus índices en el arreglo original son:\")\n",
    "print(\"Posición por filas:\", indices[0])\n",
    "print(\"Posición por columnas:\", indices[1])"
   ]
  },
  {
   "attachments": {},
   "cell_type": "markdown",
   "metadata": {},
   "source": [
    "Escribe un programa Python usando numpy para encontrar la unión de dos arreglos. La unión regresará los valores únicos en cualquiera de los dos arreglos de manera ordenada\n",
    "\n",
    "Las salidas del código deben verse así:\n",
    "\n",
    "array 1: [ 0 10 20 40 60 80]\n",
    "\n",
    "array 2: [10 30 40 50 70]\n",
    "\n",
    "Valores únicos en ambos arreglos de manera ordenada: \n",
    "\n",
    "[ 0 10 20 30 40 50 60 70 80]"
   ]
  },
  {
   "cell_type": "code",
   "execution_count": 12,
   "metadata": {},
   "outputs": [
    {
     "name": "stdout",
     "output_type": "stream",
     "text": [
      "array 1: [ 0 10 20 40 60 80]\n",
      "array 2: [10 30 40 50 70]\n",
      "Valores únicos en ambos arreglos de manera ordenada:\n",
      " [ 0 10 20 30 40 50 60 70 80]\n"
     ]
    }
   ],
   "source": [
    "import numpy as np\n",
    "\n",
    "array1 = np.array([0, 10, 20, 40, 60, 80])\n",
    "array2 = np.array([10, 30, 40, 50, 70])\n",
    "\n",
    "union = np.union1d(array1, array2)\n",
    "\n",
    "print(\"array 1:\", array1)\n",
    "print(\"array 2:\", array2)\n",
    "print(\"Valores únicos en ambos arreglos de manera ordenada:\\n\", union)\n"
   ]
  },
  {
   "attachments": {},
   "cell_type": "markdown",
   "metadata": {},
   "source": [
    "Completa el siguiente programa en Python, usando numpy para convertir una lista a arreglo y una tupla a arreglo.\n",
    "\n",
    "import numpy as np\n",
    "my_list = [[1, 2, 3], [5, 6, 7, 8]]\n",
    "print(\"De lista a arreglo: \")\n",
    "print(np.asarray(\n",
    " ))\n",
    "my_tuple = ([8, 4], [1, 2, 3])\n",
    "print(\"De tupla a arreglo: \")\n",
    "print(np.asarray(\n",
    " ))\n",
    "\n",
    " "
   ]
  },
  {
   "cell_type": "code",
   "execution_count": 13,
   "metadata": {},
   "outputs": [
    {
     "name": "stdout",
     "output_type": "stream",
     "text": [
      "De lista a arreglo: \n",
      "[list([1, 2, 3]) list([5, 6, 7, 8])]\n",
      "De tupla a arreglo: \n",
      "[list([8, 4]) list([1, 2, 3])]\n"
     ]
    },
    {
     "name": "stderr",
     "output_type": "stream",
     "text": [
      "C:\\Users\\david\\AppData\\Local\\Temp\\ipykernel_2680\\319627498.py:4: VisibleDeprecationWarning: Creating an ndarray from ragged nested sequences (which is a list-or-tuple of lists-or-tuples-or ndarrays with different lengths or shapes) is deprecated. If you meant to do this, you must specify 'dtype=object' when creating the ndarray.\n",
      "  print(np.asarray( my_list ))\n",
      "C:\\Users\\david\\AppData\\Local\\Temp\\ipykernel_2680\\319627498.py:8: VisibleDeprecationWarning: Creating an ndarray from ragged nested sequences (which is a list-or-tuple of lists-or-tuples-or ndarrays with different lengths or shapes) is deprecated. If you meant to do this, you must specify 'dtype=object' when creating the ndarray.\n",
      "  print(np.asarray(my_tuple))\n"
     ]
    }
   ],
   "source": [
    "import numpy as np\n",
    "my_list = [[1, 2, 3], [5, 6, 7, 8]]\n",
    "\n",
    "print(\"De lista a arreglo: \")\n",
    "\n",
    "print(np.asarray( my_list ))\n",
    "\n",
    "my_tuple = ([8, 4], [1, 2, 3])\n",
    "\n",
    "print(\"De tupla a arreglo: \")\n",
    "print(np.asarray(my_tuple))\n",
    "\n",
    " "
   ]
  },
  {
   "attachments": {},
   "cell_type": "markdown",
   "metadata": {},
   "source": [
    "Complete el siguiente programa en Python usando numpy para invertir un arreglo (el primer elemento se convierte en el último)\n",
    "\n",
    "La salida del código debe verse así:\n",
    "\n",
    "Arreglo original:\n",
    "\n",
    "[12 13 14 15 16 17 18 19 20 21 22 23 24 25 26 27 28 29 30 31 32 33 34 35 36 37]\n",
    "\n",
    "Arreglo invertido:\n",
    "\n",
    "[37 36 35 34 33 32 31 30 29 28 27 26 25 24 23 22 21 20 19 18 17 16 15 14 13 12]\n",
    "\n",
    " \n",
    "\n",
    "import numpy as np\n",
    "x = np.arange(12, 38)\n",
    "print(\"Arreglo original:\")\n",
    "print(x)\n",
    "print(\"Arreglo invertido:\")\n",
    "______________\n",
    "print(x)"
   ]
  },
  {
   "cell_type": "code",
   "execution_count": 17,
   "metadata": {},
   "outputs": [
    {
     "name": "stdout",
     "output_type": "stream",
     "text": [
      "Arreglo original:\n",
      "[12 13 14 15 16 17 18 19 20 21 22 23 24 25 26 27 28 29 30 31 32 33 34 35\n",
      " 36 37]\n",
      "Arreglo invertido:\n",
      "[37 36 35 34 33 32 31 30 29 28 27 26 25 24 23 22 21 20 19 18 17 16 15 14\n",
      " 13 12]\n"
     ]
    }
   ],
   "source": [
    "import numpy as np\n",
    "x = np.arange(12, 38)\n",
    "print(\"Arreglo original:\")\n",
    "print(x)\n",
    "print(\"Arreglo invertido:\")\n",
    "x= np.flip(x)\n",
    "print(x)"
   ]
  }
 ],
 "metadata": {
  "kernelspec": {
   "display_name": "Python 3",
   "language": "python",
   "name": "python3"
  },
  "language_info": {
   "codemirror_mode": {
    "name": "ipython",
    "version": 3
   },
   "file_extension": ".py",
   "mimetype": "text/x-python",
   "name": "python",
   "nbconvert_exporter": "python",
   "pygments_lexer": "ipython3",
   "version": "3.9.11"
  },
  "orig_nbformat": 4
 },
 "nbformat": 4,
 "nbformat_minor": 2
}
