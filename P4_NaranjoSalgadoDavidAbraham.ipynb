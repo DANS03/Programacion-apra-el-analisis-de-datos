{
 "cells": [
  {
   "attachments": {},
   "cell_type": "markdown",
   "metadata": {},
   "source": [
    "1- Todas las combinaciones de dados. Escriba una lista por comprensión que utilice cláusulas for anidadas para crear una lista única con las 36 combinaciones de dados diferentes desde (1,1) a (6,6)."
   ]
  },
  {
   "cell_type": "code",
   "execution_count": 2,
   "metadata": {},
   "outputs": [
    {
     "data": {
      "text/plain": [
       "[(1, 1),\n",
       " (1, 2),\n",
       " (1, 3),\n",
       " (1, 4),\n",
       " (1, 5),\n",
       " (1, 6),\n",
       " (2, 1),\n",
       " (2, 2),\n",
       " (2, 3),\n",
       " (2, 4),\n",
       " (2, 5),\n",
       " (2, 6),\n",
       " (3, 1),\n",
       " (3, 2),\n",
       " (3, 3),\n",
       " (3, 4),\n",
       " (3, 5),\n",
       " (3, 6),\n",
       " (4, 1),\n",
       " (4, 2),\n",
       " (4, 3),\n",
       " (4, 4),\n",
       " (4, 5),\n",
       " (4, 6),\n",
       " (5, 1),\n",
       " (5, 2),\n",
       " (5, 3),\n",
       " (5, 4),\n",
       " (5, 5),\n",
       " (5, 6),\n",
       " (6, 1),\n",
       " (6, 2),\n",
       " (6, 3),\n",
       " (6, 4),\n",
       " (6, 5),\n",
       " (6, 6)]"
      ]
     },
     "execution_count": 2,
     "metadata": {},
     "output_type": "execute_result"
    }
   ],
   "source": [
    "permutations = [ (x,y) for x in range(1,7) for y in range(1,7)]\n",
    "\n",
    "permutations"
   ]
  },
  {
   "attachments": {},
   "cell_type": "markdown",
   "metadata": {},
   "source": [
    "2- Tabla de temperatura. Escribe una lista por comprensión que cree una lista de tuplas. Cada tupla tiene dos valores, una temperatura en Farenheit y una temperatura en Celsius.\n"
   ]
  },
  {
   "attachments": {},
   "cell_type": "markdown",
   "metadata": {},
   "source": [
    "Cree una lista para los valores Farenheit de 0 a 100 en pasos de 5 y los valores Celsius coincidentes. Cree otra lista para valores Celsius de -10 a 50 en pasos de 2 y los valores Farenheit coincidentes. "
   ]
  },
  {
   "cell_type": "code",
   "execution_count": 10,
   "metadata": {},
   "outputs": [
    {
     "data": {
      "text/plain": [
       "[(-10, 26.444444444444443),\n",
       " (-8, 27.555555555555557),\n",
       " (-6, 28.666666666666668),\n",
       " (-4, 29.77777777777778),\n",
       " (-2, 30.88888888888889),\n",
       " (0, 32.0),\n",
       " (2, 33.111111111111114),\n",
       " (4, 34.22222222222222),\n",
       " (6, 35.333333333333336),\n",
       " (8, 36.44444444444444),\n",
       " (10, 37.55555555555556),\n",
       " (12, 38.666666666666664),\n",
       " (14, 39.77777777777778),\n",
       " (16, 40.888888888888886),\n",
       " (18, 42.0),\n",
       " (20, 43.111111111111114),\n",
       " (22, 44.22222222222222),\n",
       " (24, 45.333333333333336),\n",
       " (26, 46.44444444444444),\n",
       " (28, 47.55555555555556),\n",
       " (30, 48.66666666666667),\n",
       " (32, 49.77777777777778),\n",
       " (34, 50.888888888888886),\n",
       " (36, 52.0),\n",
       " (38, 53.111111111111114),\n",
       " (40, 54.22222222222222),\n",
       " (42, 55.333333333333336),\n",
       " (44, 56.44444444444444),\n",
       " (46, 57.55555555555556),\n",
       " (48, 58.66666666666667),\n",
       " (50, 59.77777777777778)]"
      ]
     },
     "execution_count": 10,
     "metadata": {},
     "output_type": "execute_result"
    }
   ],
   "source": [
    "\n",
    "FarenheitToCelsius = [ (Farenheit,(Farenheit - 32)* (5/9)) for Farenheit in range(0,100 + 5,5) ]\n",
    "CelsiusToFarenheit = [ (Celsius,(Celsius * (5/9))+ 32 ) for Celsius in range(-10,50 + 2,2) ]\n",
    "\n",
    "FarenheitToCelsius\n",
    "CelsiusToFarenheit"
   ]
  },
  {
   "attachments": {},
   "cell_type": "markdown",
   "metadata": {},
   "source": [
    "3- Estudie la presentación en PowerPoint sobre paso de parámetros flexibles con *args y **kwargs y realice los siguientes ejercicios:\n",
    "\n",
    "\n",
    "\n"
   ]
  },
  {
   "attachments": {},
   "cell_type": "markdown",
   "metadata": {},
   "source": [
    "3.1. Cree una función que acepte cualquier número de argumentos posicionales y de palabras clave, y que los imprima al usuario. Su salida debe indicar qué valores se proporcionaron como argumentos posicionales y cuáles se proporcionaron como argumentos de palabras clave."
   ]
  },
  {
   "cell_type": "code",
   "execution_count": 16,
   "metadata": {},
   "outputs": [
    {
     "name": "stdout",
     "output_type": "stream",
     "text": [
      "\n",
      "Users data\n",
      "Key = Firstname | Value =  Sita\n",
      "Key = Lastname | Value =  Sharma\n",
      "Key = Age | Value =  22\n",
      "Key = Phone | Value =  1234567890\n",
      "\n",
      "Users data\n",
      "Key = Firstname | Value =  John\n",
      "Key = Lastname | Value =  Wood\n",
      "Key = Email | Value =  johnwood@nomail.com\n",
      "Key = Country | Value =  Wakanda\n",
      "Key = Age | Value =  25\n",
      "Key = Phone | Value =  9876543210\n",
      "\n",
      "Users data\n",
      "Key = Firstname | Value =  Bruce\n",
      "Key = Lastname | Value =  Wayne\n",
      "Key = Country | Value =  Gotica\n",
      "Key = Age | Value =  25\n"
     ]
    }
   ],
   "source": [
    "def dataUsers(**data):\n",
    "    print(\"\\nUsers data\")\n",
    "    for key, value in data.items():\n",
    "        print(\"Key = {} | Value =  {}\".format(key,value))\n",
    "\n",
    "dataUsers(Firstname=\"Sita\", Lastname=\"Sharma\", Age=22, Phone=1234567890)\n",
    "dataUsers(Firstname=\"John\", Lastname=\"Wood\", Email=\"johnwood@nomail.com\", Country=\"Wakanda\", Age=25, Phone=9876543210)\n",
    "dataUsers(Firstname=\"Bruce\", Lastname=\"Wayne\", Country=\"Gotica\", Age=25)\n",
    "\n"
   ]
  },
  {
   "attachments": {},
   "cell_type": "markdown",
   "metadata": {},
   "source": [
    "3.2. Imprima el siguiente diccionario utilizando el método de formato y ** desempaquetado.\n",
    "\n",
    "country = {\n",
    "    \"name\": \"Germany\",\n",
    "    \"population\": \"89 million\",\n",
    "    \"capital\": \"Berlin\",\n",
    "    \"currency\": \"Euro\"\n",
    "}"
   ]
  },
  {
   "cell_type": "code",
   "execution_count": 30,
   "metadata": {},
   "outputs": [
    {
     "name": "stdout",
     "output_type": "stream",
     "text": [
      "name : { Germany } | population : { 89 million } | capital : { Berlin } | currency : { Euro }\n"
     ]
    }
   ],
   "source": [
    "def UnpackedCountries(**dataCountry):\n",
    "    \n",
    "    name , population, capital, currency = dataCountry.values();\n",
    "    print(\"name : {\",name,\"} | population : {\",population,\"} | capital : {\",capital,\"} | currency : {\",currency,\"}\")\n",
    "\n",
    "\n",
    "country = {\n",
    "    \"name\": \"Germany\",\n",
    "    \"population\": \"89 million\",\n",
    "    \"capital\": \"Berlin\",\n",
    "    \"currency\": \"Euro\"\n",
    "}\n",
    "\n",
    "UnpackedCountries(**country)"
   ]
  },
  {
   "attachments": {},
   "cell_type": "markdown",
   "metadata": {},
   "source": [
    "3.3. Utilizando * desempaquetado y range(), imprima los números del 1 al 20, separados por comas."
   ]
  },
  {
   "cell_type": "code",
   "execution_count": 37,
   "metadata": {},
   "outputs": [
    {
     "name": "stdout",
     "output_type": "stream",
     "text": [
      "1,2,3,4,5,6,7,8,9,10,11,12,13,14,15,16,17,18,19,20\n"
     ]
    }
   ],
   "source": [
    "pack = (x for x in range(1,21))\n",
    "\n",
    "print(*pack, sep=',')"
   ]
  }
 ],
 "metadata": {
  "kernelspec": {
   "display_name": "Python 3",
   "language": "python",
   "name": "python3"
  },
  "language_info": {
   "codemirror_mode": {
    "name": "ipython",
    "version": 3
   },
   "file_extension": ".py",
   "mimetype": "text/x-python",
   "name": "python",
   "nbconvert_exporter": "python",
   "pygments_lexer": "ipython3",
   "version": "3.11.2"
  },
  "orig_nbformat": 4,
  "vscode": {
   "interpreter": {
    "hash": "6a2a0214d38df7dcc88d60fd0083ce83592ef4b41f72cfba9b9d75b1af5e7e91"
   }
  }
 },
 "nbformat": 4,
 "nbformat_minor": 2
}
