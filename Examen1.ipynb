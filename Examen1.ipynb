{
 "cells": [
  {
   "attachments": {},
   "cell_type": "markdown",
   "metadata": {},
   "source": [
    "Escriba código Python que cree una nueva tupla m1, a partir de la siguiente tupla m, cambiando el nombre de la mascota 'Filis' por 'Firulais'.\n",
    "\n",
    "Use el operador de corte (slicing) y use concatenación.\n",
    "\n",
    "m = (‘Filis’,perro,5,10-01-17)"
   ]
  },
  {
   "cell_type": "code",
   "execution_count": 29,
   "metadata": {},
   "outputs": [
    {
     "name": "stdout",
     "output_type": "stream",
     "text": [
      "('Firulais', 'perro', 5, '10-01-17')\n"
     ]
    }
   ],
   "source": [
    "M1=('Filis','perro',5,'10-01-17')\n",
    "newName ='Firulais'\n",
    "M1 = (newName,) + M[1:]\n",
    "\n",
    "print(M1)"
   ]
  },
  {
   "attachments": {},
   "cell_type": "markdown",
   "metadata": {},
   "source": [
    "¿Cuál es el resultado de la siguiente operación de tuplas?\n",
    "\n",
    "aTuple = (100, 200, 300, 400, 500)\n",
    "aTuple.pop(2)\n",
    "print(aTuple)"
   ]
  },
  {
   "cell_type": "code",
   "execution_count": 6,
   "metadata": {},
   "outputs": [
    {
     "ename": "AttributeError",
     "evalue": "'tuple' object has no attribute 'pop'",
     "output_type": "error",
     "traceback": [
      "\u001b[1;31m---------------------------------------------------------------------------\u001b[0m",
      "\u001b[1;31mAttributeError\u001b[0m                            Traceback (most recent call last)",
      "Cell \u001b[1;32mIn[6], line 2\u001b[0m\n\u001b[0;32m      1\u001b[0m aTuple \u001b[39m=\u001b[39m (\u001b[39m100\u001b[39m, \u001b[39m200\u001b[39m, \u001b[39m300\u001b[39m, \u001b[39m400\u001b[39m, \u001b[39m500\u001b[39m)\n\u001b[1;32m----> 2\u001b[0m aTuple\u001b[39m.\u001b[39;49mpop(\u001b[39m2\u001b[39m)\n\u001b[0;32m      3\u001b[0m \u001b[39mprint\u001b[39m(aTuple)\n",
      "\u001b[1;31mAttributeError\u001b[0m: 'tuple' object has no attribute 'pop'"
     ]
    }
   ],
   "source": [
    "\n",
    "aTuple = (100, 200, 300, 400, 500)\n",
    "aTuple.pop(2)\n",
    "print(aTuple)"
   ]
  },
  {
   "attachments": {},
   "cell_type": "markdown",
   "metadata": {},
   "source": [
    "¿Cuál es el resultado del siguiente código?\n",
    "\n",
    "set1 = {10, 20, 30, 40, 50}\n",
    "set2 = {60, 70, 10, 30, 40, 80, 20, 50} \n",
    "\n",
    "print(set1.issubset(set2))\n",
    "print(set2.issuperset(set1))"
   ]
  },
  {
   "cell_type": "code",
   "execution_count": 7,
   "metadata": {},
   "outputs": [
    {
     "name": "stdout",
     "output_type": "stream",
     "text": [
      "True\n",
      "True\n"
     ]
    }
   ],
   "source": [
    "set1 = {10, 20, 30, 40, 50}\n",
    "set2 = {60, 70, 10, 30, 40, 80, 20, 50} \n",
    "\n",
    "print(set1.issubset(set2))\n",
    "print(set2.issuperset(set1))"
   ]
  },
  {
   "attachments": {},
   "cell_type": "markdown",
   "metadata": {},
   "source": [
    "¿Cuál es el resultado del siguiente código?\n",
    "\n",
    "sampleSet = {'Amarillo', 'Naranja', 'Negro'}\n",
    "\n",
    "print(sampleSet[1])"
   ]
  },
  {
   "cell_type": "code",
   "execution_count": 8,
   "metadata": {},
   "outputs": [
    {
     "ename": "TypeError",
     "evalue": "'set' object is not subscriptable",
     "output_type": "error",
     "traceback": [
      "\u001b[1;31m---------------------------------------------------------------------------\u001b[0m",
      "\u001b[1;31mTypeError\u001b[0m                                 Traceback (most recent call last)",
      "Cell \u001b[1;32mIn[8], line 3\u001b[0m\n\u001b[0;32m      1\u001b[0m sampleSet \u001b[39m=\u001b[39m {\u001b[39m'\u001b[39m\u001b[39mAmarillo\u001b[39m\u001b[39m'\u001b[39m, \u001b[39m'\u001b[39m\u001b[39mNaranja\u001b[39m\u001b[39m'\u001b[39m, \u001b[39m'\u001b[39m\u001b[39mNegro\u001b[39m\u001b[39m'\u001b[39m}\n\u001b[1;32m----> 3\u001b[0m \u001b[39mprint\u001b[39m(sampleSet[\u001b[39m1\u001b[39;49m])\n",
      "\u001b[1;31mTypeError\u001b[0m: 'set' object is not subscriptable"
     ]
    }
   ],
   "source": [
    "\n",
    "sampleSet = {'Amarillo', 'Naranja', 'Negro'}\n",
    "\n",
    "print(sampleSet[1])"
   ]
  },
  {
   "attachments": {},
   "cell_type": "markdown",
   "metadata": {},
   "source": [
    "Selecciona todas las opciones correctas para vaciar el siguiente diccionario"
   ]
  },
  {
   "cell_type": "code",
   "execution_count": 14,
   "metadata": {},
   "outputs": [
    {
     "data": {
      "text/plain": [
       "{}"
      ]
     },
     "execution_count": 14,
     "metadata": {},
     "output_type": "execute_result"
    }
   ],
   "source": [
    "estudiante = {\n",
    "    \"nombre\": \"Emma\",\n",
    "    \"clase\" : 9,\n",
    "    \"marks\": 75\n",
    "}\n",
    "\n",
    "estudiante.clear()\n",
    "\n",
    "estudiante"
   ]
  },
  {
   "attachments": {},
   "cell_type": "markdown",
   "metadata": {},
   "source": [
    "Selecciona la manera correcta para acceder el valor de \"historia\""
   ]
  },
  {
   "cell_type": "code",
   "execution_count": null,
   "metadata": {},
   "outputs": [],
   "source": []
  },
  {
   "cell_type": "code",
   "execution_count": 20,
   "metadata": {},
   "outputs": [
    {
     "data": {
      "text/plain": [
       "80"
      ]
     },
     "execution_count": 20,
     "metadata": {},
     "output_type": "execute_result"
    }
   ],
   "source": [
    "SampleDict = {\n",
    "    \"clase\": {\n",
    "        \"estudiante\":{\n",
    "            \"nombre\":\"Mike\", \n",
    "            \"marks\": {\n",
    "                \"fisica\": 70,\n",
    "                \"historia\":80\n",
    "            }\n",
    "        }\n",
    "    }\n",
    "}\n",
    "\n",
    "\n",
    "SampleDict['clase']['estudiante']['marks']['historia']"
   ]
  },
  {
   "attachments": {},
   "cell_type": "markdown",
   "metadata": {},
   "source": [
    "Escriba un código en Python que le permita crear una lista, uando listas por comprensión, de todas las consonantes en el string \"Yellow Yaks like yelling and yawning and yesterday they yodled while eating yuky yams\""
   ]
  },
  {
   "cell_type": "code",
   "execution_count": 23,
   "metadata": {},
   "outputs": [
    {
     "data": {
      "text/plain": [
       "['Y',\n",
       " 'l',\n",
       " 'l',\n",
       " 'w',\n",
       " ' ',\n",
       " 'Y',\n",
       " 'k',\n",
       " 's',\n",
       " ' ',\n",
       " 'l',\n",
       " 'k',\n",
       " ' ',\n",
       " 'y',\n",
       " 'l',\n",
       " 'l',\n",
       " 'n',\n",
       " 'g',\n",
       " ' ',\n",
       " 'n',\n",
       " 'd',\n",
       " ' ',\n",
       " 'y',\n",
       " 'w',\n",
       " 'n',\n",
       " 'n',\n",
       " 'g',\n",
       " ' ',\n",
       " 'n',\n",
       " 'd',\n",
       " ' ',\n",
       " 'y',\n",
       " 's',\n",
       " 't',\n",
       " 'r',\n",
       " 'd',\n",
       " 'y',\n",
       " ' ',\n",
       " 't',\n",
       " 'h',\n",
       " 'y',\n",
       " ' ',\n",
       " 'y',\n",
       " 'd',\n",
       " 'l',\n",
       " 'd',\n",
       " ' ',\n",
       " 'w',\n",
       " 'h',\n",
       " 'l',\n",
       " ' ',\n",
       " 't',\n",
       " 'n',\n",
       " 'g',\n",
       " ' ',\n",
       " 'y',\n",
       " 'k',\n",
       " 'y',\n",
       " ' ',\n",
       " 'y',\n",
       " 'm',\n",
       " 's']"
      ]
     },
     "execution_count": 23,
     "metadata": {},
     "output_type": "execute_result"
    }
   ],
   "source": [
    "frase = \"Yellow Yaks like yelling and yawning and yesterday they yodled while eating yuky yams\"\n",
    "consonantes = [ x for x in frase if( x != 'a' and x != 'e' and x != 'i' and x != 'o' and x != 'u')]\n",
    "\n",
    "consonantes"
   ]
  },
  {
   "attachments": {},
   "cell_type": "markdown",
   "metadata": {},
   "source": [
    "Escriba un código en Python que le permita obtener el índice y el valor como tupla para ítems en una lista.\n",
    "\n",
    "Use la lista\n",
    "\n",
    "items = [\"hi\", 4, 8.99, 'apple', ('t,b','n')] para hacer una prueba de su código.\n",
    "\n",
    "El resultado (salida del código) debe verse así:\n",
    "\n",
    "[(0, 'hi'), (1, 4), (2, 8.99), (3, 'apple'), (4, ('t,b', 'n'))]"
   ]
  },
  {
   "cell_type": "code",
   "execution_count": 68,
   "metadata": {},
   "outputs": [
    {
     "name": "stdout",
     "output_type": "stream",
     "text": [
      "[(0, 'hi'), (1, 4), (2, 8.99), (3, 'apple'), (4, ('t,b', 'n'))]\n"
     ]
    }
   ],
   "source": [
    "items = [\"hi\", 4, 8.99, 'apple', ('t,b','n')]\n",
    "\n",
    "result = []\n",
    "for i in range(len(items)):\n",
    "    result.append((i, items[i]))\n",
    "\n",
    "print(result)\n"
   ]
  },
  {
   "attachments": {},
   "cell_type": "markdown",
   "metadata": {},
   "source": [
    "Complete el siguiente código Python que reorganice positivos, ceros y negativos en una lista usando una función lambda. Primero se mostrarán los positivos ascendentemente, luego los ceros y finalmente los negativos ascendentemente.  Debe usar la función sorted(iterable, /, *, key=None, reverse=False), misma que devuelve una nueva lista que contiene todos los elementos del iterable en orden ascendente (reverse=True se usa para orden descendente y key se usa para especificar la función que personaliza el orden). Se sugiere usar una función para los elementos diferentes de cero en la que se invierta el elemento x (1/x) y se multiplique por -1 y en caso de cero se use el propio cero."
   ]
  },
  {
   "cell_type": "code",
   "execution_count": null,
   "metadata": {},
   "outputs": [],
   "source": [
    "nums = [-1, 2, -3, 0, 5, 7, 8, 9, -10, 0]\n",
    "\n",
    "print(\"Lista original:\")\n",
    "print(nums)\n",
    "\n",
    "result = sorted(nums, key=lambda x: (x>0)*x + (x==0)*float('inf') + (x<0)*(1/x))\n",
    "\n",
    "print(\"\\nReorganizados:\")\n",
    "print(result)\n"
   ]
  },
  {
   "attachments": {},
   "cell_type": "markdown",
   "metadata": {},
   "source": [
    "Complete el siguiente código Python que calcula el cuadrado y el cubo todos los números de la siguiente lista de enteros usando funciones lambda."
   ]
  },
  {
   "cell_type": "code",
   "execution_count": 56,
   "metadata": {},
   "outputs": [
    {
     "name": "stdout",
     "output_type": "stream",
     "text": [
      "Lista original:\n",
      "[1, 2, 3, 4, 5, 6, 7, 8, 9, 10]\n",
      "\n",
      "Lista al cuadrado:\n",
      "[1, 4, 9, 16, 25, 36, 49, 64, 81, 100]\n",
      "\n",
      "Lista al cubo:\n",
      "[1, 8, 27, 64, 125, 216, 343, 512, 729, 1000]\n"
     ]
    }
   ],
   "source": [
    "nums = [1, 2, 3, 4, 5, 6, 7, 8, 9, 10] \n",
    "print(\"Lista original:\") \n",
    "print(nums) \n",
    "print(\"\\nLista al cuadrado:\") \n",
    "square_nums = (list(map(lambda x: x ** 2 , nums)))\n",
    "\n",
    "\n",
    "print(square_nums) \n",
    "print(\"\\nLista al cubo:\") \n",
    "cube_nums = (list(map(lambda x: x ** 3 , nums)))\n",
    "\n",
    " \n",
    "print(cube_nums)"
   ]
  },
  {
   "attachments": {},
   "cell_type": "markdown",
   "metadata": {},
   "source": [
    "Escribe una función generadora que produzca una contraseña al azar que cumpla con las siguientes condiciones. Se sugiere importar el módulo string para usar sus facilidades, así como el módulo random.\n",
    "\n",
    "La contraseña debe contar de 10 caracteres\n",
    "Debe tener como mínimo 2 mayúsculas, 1 dígito y 1 símbolo especial"
   ]
  },
  {
   "cell_type": "code",
   "execution_count": 79,
   "metadata": {},
   "outputs": [],
   "source": [
    "import string\n",
    "import random\n",
    "\n",
    "def generar_contrasena():\n",
    "    longitud = 10\n",
    "    caracteres = string.ascii_letters + string.digits + string.punctuation\n",
    "    while True:\n",
    "        contrasena = ''.join(random.choice(caracteres) for i in range(longitud))\n",
    "        if (sum(1 for c in contrasena if c.isupper()) >= 2\n",
    "                and sum(1 for c in contrasena if c.isdigit()) >= 1\n",
    "                and sum(1 for c in contrasena if c in string.punctuation) >= 1):\n",
    "            break\n",
    "    return contrasena"
   ]
  },
  {
   "attachments": {},
   "cell_type": "markdown",
   "metadata": {},
   "source": [
    "\n",
    "Complete la función imp_lineas(arch,subcad) a la que se le pasa un nombre de archivo (incluida su ruta) y una cadena e imprima solo las líneas del archivo que contengan la cadena. Dicha función debe llamar a la siguiente función generadora:\n",
    "\n",
    "def readfiles(filenames):   \n",
    "    ''' filenames: lista de nombres de archivos con su ruta'''\n",
    "    for f in filenames:\n",
    "        for line in open(f):\n",
    "            yield line\n",
    " \n",
    "\n",
    "def imp_lineas(arch,subcad):\n",
    "    '''\n",
    "    Parameters\n",
    "    ----------\n",
    "    arch : list\n",
    "        lista de nombres de archivos\n",
    "    subcad : str\n",
    "        cadena de caracteres presente en la línea a imprimir.\n",
    "    '''\n",
    "\n",
    "    ....."
   ]
  },
  {
   "cell_type": "code",
   "execution_count": 59,
   "metadata": {},
   "outputs": [],
   "source": [
    "def imp_lineas(list_arch,subcadena):\n",
    "    for line in readfiles(list_arch):\n",
    "        if( line.find(subcadena)):\n",
    "            print(line)"
   ]
  },
  {
   "attachments": {},
   "cell_type": "markdown",
   "metadata": {},
   "source": [
    "imprimelos a enteros \n",
    "arr1 = np.array([[2.5, 3.8, 1.5],\n",
    "              [4.7, 2.9, 1.56]])"
   ]
  },
  {
   "cell_type": "code",
   "execution_count": 67,
   "metadata": {},
   "outputs": [
    {
     "name": "stdout",
     "output_type": "stream",
     "text": [
      "[[2 3 1]\n",
      " [4 2 1]]\n"
     ]
    }
   ],
   "source": [
    "import numpy as np\n",
    "arr1 = np.array([[2.5, 3.8, 1.5],[4.7, 2.9, 1.56]])\n",
    "print(arr1.astype(int))\n",
    "\n",
    "\n"
   ]
  },
  {
   "cell_type": "code",
   "execution_count": 72,
   "metadata": {},
   "outputs": [
    {
     "name": "stdout",
     "output_type": "stream",
     "text": [
      "[[ 1  2  3]\n",
      " [ 4  5  6]\n",
      " [ 7  8  9]\n",
      " [10 11 12]]\n"
     ]
    }
   ],
   "source": [
    "import numpy as np\n",
    "\n",
    "a1 = np.array([[1,2,3],\n",
    "               [4,5,6]])\n",
    "a2 = np.array([[7,8,9],\n",
    "               [10,11,12]])\n",
    "\n",
    "print(np.vstack((a1, a2)))\n",
    "\n"
   ]
  },
  {
   "cell_type": "code",
   "execution_count": 78,
   "metadata": {},
   "outputs": [
    {
     "ename": "ValueError",
     "evalue": "operands could not be broadcast together with shapes (4,) (3,) ",
     "output_type": "error",
     "traceback": [
      "\u001b[1;31m---------------------------------------------------------------------------\u001b[0m",
      "\u001b[1;31mValueError\u001b[0m                                Traceback (most recent call last)",
      "Cell \u001b[1;32mIn[78], line 9\u001b[0m\n\u001b[0;32m      5\u001b[0m arr2 \u001b[39m=\u001b[39m np\u001b[39m.\u001b[39marray([\u001b[39m4\u001b[39m, \u001b[39m5\u001b[39m, \u001b[39m6\u001b[39m])\n\u001b[0;32m      7\u001b[0m arr \u001b[39m=\u001b[39m np\u001b[39m.\u001b[39mconcatenate((arr1, arr2))\n\u001b[1;32m----> 9\u001b[0m unique \u001b[39m=\u001b[39m \u001b[39mlist\u001b[39m(\u001b[39mset\u001b[39m(arr1 \u001b[39m+\u001b[39;49m arr2))\n\u001b[0;32m     11\u001b[0m \u001b[39mprint\u001b[39m(unique)\n",
      "\u001b[1;31mValueError\u001b[0m: operands could not be broadcast together with shapes (4,) (3,) "
     ]
    }
   ],
   "source": [
    "import numpy as np\n",
    "\n",
    "arr1 = np.array([1, 2, 3, 5])\n",
    "\n",
    "arr2 = np.array([4, 5, 6])\n",
    "\n",
    "arr = np.concatenate((arr1, arr2))\n",
    "Array.from(new Set(myArray1.concat(myArray2))); \n",
    "\n",
    "print(unique)"
   ]
  }
 ],
 "metadata": {
  "kernelspec": {
   "display_name": "Python 3",
   "language": "python",
   "name": "python3"
  },
  "language_info": {
   "codemirror_mode": {
    "name": "ipython",
    "version": 3
   },
   "file_extension": ".py",
   "mimetype": "text/x-python",
   "name": "python",
   "nbconvert_exporter": "python",
   "pygments_lexer": "ipython3",
   "version": "3.9.11"
  },
  "orig_nbformat": 4
 },
 "nbformat": 4,
 "nbformat_minor": 2
}
