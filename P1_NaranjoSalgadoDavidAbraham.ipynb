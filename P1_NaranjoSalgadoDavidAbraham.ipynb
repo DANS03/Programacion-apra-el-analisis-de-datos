{
 "cells": [
  {
   "cell_type": "code",
   "execution_count": null,
   "metadata": {},
   "outputs": [],
   "source": [
    "#Práctica1. Copia profunda y superficial de listas"
   ]
  },
  {
   "cell_type": "code",
   "execution_count": 10,
   "metadata": {},
   "outputs": [
    {
     "name": "stdout",
     "output_type": "stream",
     "text": [
      "Original--> [5, 6, 3, 4, 9]\n",
      "DeepCopy--> [1, 2, 3, 4]\n"
     ]
    }
   ],
   "source": [
    "import copy\n",
    "#Escriba un programa de Python para crear una copia profunda de una lista de listas.\n",
    "Original = [1,2,3,4]\n",
    "DeepCopy=copy.deepcopy(Original)#Mediante el metodo deepcopy de la libreria copy se puede creear se vueleve una copya independiente del original \n",
    "\n",
    "#Aplicamos operaciones sobre Original\n",
    "Original[0] = 5\n",
    "Original.append(9)\n",
    "Original.insert(1,6)\n",
    "Original.remove(2)\n",
    "\n",
    "\n",
    "print(\"Original-->\", Original)\n",
    "print(\"DeepCopy-->\", DeepCopy)"
   ]
  },
  {
   "cell_type": "code",
   "execution_count": 8,
   "metadata": {},
   "outputs": [
    {
     "name": "stdout",
     "output_type": "stream",
     "text": [
      "Original--> [5, 2, 3, 4]\n",
      "ShallowCopy--> [1, 2, 3, 4]\n"
     ]
    }
   ],
   "source": [
    "import copy\n",
    "#Escriba un programa de Python para crear una copia superficial de una lista de listas.\n",
    "Original = [1,2,3,4]\n",
    "ShallowCopy = Original.copy()#Mediante el metodo deepcopy de la libreria copy se puede creear se vueleve una copya dependiente del original \n",
    "\n",
    "#Aplicamos operaciones sobre Original\n",
    "Original[0] = 5\n",
    "Original.append(9)\n",
    "Original.insert(1,6)\n",
    "Original.remove(2)\n",
    "\n",
    "print(\"Original-->\", Original)\n",
    "print(\"ShallowCopy-->\", ShallowCopy)\n",
    "\n"
   ]
  },
  {
   "cell_type": "code",
   "execution_count": null,
   "metadata": {},
   "outputs": [],
   "source": []
  }
 ],
 "metadata": {
  "kernelspec": {
   "display_name": "Python 3",
   "language": "python",
   "name": "python3"
  },
  "language_info": {
   "codemirror_mode": {
    "name": "ipython",
    "version": 3
   },
   "file_extension": ".py",
   "mimetype": "text/x-python",
   "name": "python",
   "nbconvert_exporter": "python",
   "pygments_lexer": "ipython3",
   "version": "3.11.1 (tags/v3.11.1:a7a450f, Dec  6 2022, 19:58:39) [MSC v.1934 64 bit (AMD64)]"
  },
  "orig_nbformat": 4,
  "vscode": {
   "interpreter": {
    "hash": "6a2a0214d38df7dcc88d60fd0083ce83592ef4b41f72cfba9b9d75b1af5e7e91"
   }
  }
 },
 "nbformat": 4,
 "nbformat_minor": 2
}
