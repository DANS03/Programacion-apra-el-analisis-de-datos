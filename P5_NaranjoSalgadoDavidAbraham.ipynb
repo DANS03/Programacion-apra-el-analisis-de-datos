{
 "cells": [
  {
   "attachments": {},
   "cell_type": "markdown",
   "metadata": {},
   "source": [
    "CONJUNTOS"
   ]
  },
  {
   "attachments": {},
   "cell_type": "markdown",
   "metadata": {},
   "source": [
    "En Craps, cada lanzamiento de los dados pertenece a uno de los varios conjuntos de lanzamientos que se utilizan para resolver las apuestas. Solo hay 36 tiradas (variaciones con repeticiones) de dados posibles, pero es molesto definir los distintos conjuntos manualmente. Aquí hay un procedimiento de varios pasos que produce varios juegos de tiradas de dados alrededor de los cuales puede definir el juego de dados. \n",
    "\n",
    "Si quiero saber todas las variaciones con repeticiones de lanzar dos dados, debo considerar que tengo m =6 (elementos del 1 al 6 que son las caras de un dado) y n=2 (repeticiones; en este caso dos dados);\n",
    "\n",
    "Las variaciones con repeticiones para este caso son: Vm,n = m**n = 6 ** 2 = 36\n",
    "\n",
    "No confundir lo anterior con las combinaciones con repetición (o reemplazo) serían todos los posibles resultados de lanzar dos dados, sin importar en cuál dado cae un número dado:\n",
    "\n",
    "CRm,n = (m + n -1)! / n! * (m – 1) ! = 7! /2! * 5! = 7*6*5! / 2! * 5! = 42 / 2 = 21\n",
    "\n",
    "[(1, 1), (1, 2), (1, 3), (1, 4), (1, 5), (1, 6), (2, 2), (2, 3), (2, 4), (2, 5), (2, 6), (3, 3), (3, 4), (3, 5), (3, 6), (4, 4), (4, 5), (4, 6), (5, 5), (5, 6), (6, 6)]"
   ]
  },
  {
   "attachments": {},
   "cell_type": "markdown",
   "metadata": {},
   "source": [
    "Primero, crea una secuencia con 13 conjuntos vacíos, llámalo \"dados\". Algo como [set ()] * 13 no funciona porque hace 13 copias de un solo objeto set (recuerda la diferencia entre copia profunda y copia superficial).\n",
    "\n",
    "Deberá usar una instrucción for para evaluar la función de conjunto 13 veces diferentes. ¿Cuál es el primer índice de esta secuencia? ¿Cuál es la última entrada de esta secuencia?"
   ]
  },
  {
   "cell_type": "code",
   "execution_count": 86,
   "metadata": {},
   "outputs": [
    {
     "data": {
      "text/plain": [
       "[set(),\n",
       " set(),\n",
       " set(),\n",
       " set(),\n",
       " set(),\n",
       " set(),\n",
       " set(),\n",
       " set(),\n",
       " set(),\n",
       " set(),\n",
       " set(),\n",
       " set(),\n",
       " set()]"
      ]
     },
     "execution_count": 86,
     "metadata": {},
     "output_type": "execute_result"
    }
   ],
   "source": [
    "import copy\n",
    "\n",
    "dice = [copy.deepcopy(set()) for i in range(13)]\n",
    "\n",
    "dice"
   ]
  },
  {
   "cell_type": "markdown",
   "metadata": {},
   "source": [
    "En segundo lugar, escriba dos bucles for anidados para recorrer las 36 combinaciones de dados, creando tuplas de 2 elementos. Las 36 tuplas de 2 elementos comenzarán con (1,1) y terminarán con (6,6). La suma de los dos elementos es un índice en \"dados\". Queremos agregar cada tupla de 2 al conjunto apropiado en la secuencia \"dados\". Cuando haya terminado, debería ver resultados como los siguientes:"
   ]
  },
  {
   "cell_type": "code",
   "execution_count": 87,
   "metadata": {},
   "outputs": [
    {
     "data": {
      "text/plain": [
       "[set(),\n",
       " set(),\n",
       " {(1, 1)},\n",
       " {(1, 2), (2, 1)},\n",
       " {(1, 3), (2, 2), (3, 1)},\n",
       " {(1, 4), (2, 3), (3, 2), (4, 1)},\n",
       " {(1, 5), (2, 4), (3, 3), (4, 2), (5, 1)},\n",
       " {(1, 6), (2, 5), (3, 4), (4, 3), (5, 2), (6, 1)},\n",
       " {(2, 6), (3, 5), (4, 4), (5, 3), (6, 2)},\n",
       " {(3, 6), (4, 5), (5, 4), (6, 3)},\n",
       " {(4, 6), (5, 5), (6, 4)},\n",
       " {(5, 6), (6, 5)},\n",
       " {(6, 6)}]"
      ]
     },
     "execution_count": 87,
     "metadata": {},
     "output_type": "execute_result"
    }
   ],
   "source": [
    "\n",
    "for i in range(1,7):\n",
    "    for j in range(1,7):\n",
    "        permutation = (i,j)\n",
    "        dice[i+j].add(permutation)\n",
    "        \n",
    "\n",
    "dice"
   ]
  },
  {
   "attachments": {},
   "cell_type": "markdown",
   "metadata": {},
   "source": [
    "ahora puede definir las distintas reglas como conjuntos creados a partir de otros conjuntos.\n",
    "\n",
    "lose En la primera tirada, pierde si tira 2, 3 o 12. Este es el set dados[2] | dados[3] | dados[12]. El juego ha terminado.\n",
    "\n",
    "win En la primera tirada, gana si tira 7 u 11. El juego ha terminado.\n",
    "\n",
    "point En la primera tirada, cualquier otro resultado de los siguientes (4, 5, 6, 8, 9, o 10) establece un punto. El juego se ejecuta hasta que saques el punto o un siete.\n",
    "\n",
    "craps Una vez que el punto está estabecido, ganará si lanza dados que sumen ños puntos del conjunto win. Pierde si el lanzamiento suma 7. Una vez que tenga estos 3 conjuntos definidos, puede simular la primera tirada de forma elegante.\n",
    "\n",
    "Puede generar 2 números aleatorios para la tupla de lanzamiento. Verifique si la tupla es ganadora, perdedora o fija puntos."
   ]
  },
  {
   "cell_type": "code",
   "execution_count": 88,
   "metadata": {},
   "outputs": [
    {
     "name": "stdout",
     "output_type": "stream",
     "text": [
      "(6, 4)\n",
      "(1, 4)\n",
      "The game has finished with status : craps\n"
     ]
    }
   ],
   "source": [
    "import random\n",
    "\n",
    "gameStauts = 'playing'\n",
    "points = 0\n",
    "\n",
    "while(gameStauts == 'playing'):\n",
    "    throw = (random.randint(1, 6),random.randint(1, 6))\n",
    "    \n",
    "    print(throw)\n",
    "\n",
    "    hand = throw[0] + throw[1]\n",
    "\n",
    "    if( points == 0):\n",
    "        if( hand == 7 or  hand == 11):\n",
    "            gameStauts = 'win'\n",
    "            break;\n",
    "        if( hand == 2 or hand == 3 or hand == 12  ):\n",
    "            gameStauts = 'lose'\n",
    "            break;\n",
    "        points = hand\n",
    "     \n",
    "    else:\n",
    "        \n",
    "        if( hand == 7 or hand != points ): \n",
    "            gameStauts = 'craps'\n",
    "            \n",
    "        elif( hand == points):\n",
    "            gameStauts = 'win by point'\n",
    "            \n",
    "    \n",
    "\n",
    "print(\"The game has finished with status : \"+gameStauts+\"\" )\n",
    "\n"
   ]
  },
  {
   "attachments": {},
   "cell_type": "markdown",
   "metadata": {},
   "source": [
    "DICCIONARIOS"
   ]
  },
  {
   "attachments": {},
   "cell_type": "markdown",
   "metadata": {},
   "source": [
    "Escriba tres versiones de una función a la que se le pasa una lista, un diccionario y una clave K. La función imprime el valor de K del diccionario si la clave está presente tanto en la lista como en el diccionario, de lo contrario imprime mensaje al usuario de que no está en ambos. Desarrolle dos casos de prueba (para cuando está presente la clave y para cuando no lo está) y ejecute las corridas de los dos casos.\n"
   ]
  },
  {
   "attachments": {},
   "cell_type": "markdown",
   "metadata": {},
   "source": [
    "1.La versión 1 de la función será usando all() y una expresión generadora."
   ]
  },
  {
   "cell_type": "code",
   "execution_count": 89,
   "metadata": {},
   "outputs": [],
   "source": [
    "def printValueAll(lista, diccionario, clave):\n",
    "    if all(clave in obj for obj in (lista, diccionario)):\n",
    "        print(\"printValueAll\", diccionario[clave])\n",
    "    else:\n",
    "        print(f\"La clave '{clave}' no está presente en ambos la lista y el diccionario. printValueAll\")"
   ]
  },
  {
   "attachments": {},
   "cell_type": "markdown",
   "metadata": {},
   "source": [
    "2.La versión 2 de la función será usando el operador in"
   ]
  },
  {
   "cell_type": "code",
   "execution_count": 90,
   "metadata": {},
   "outputs": [],
   "source": [
    "def printValueIn(lista, diccionario, clave):\n",
    "    if clave in lista and clave in diccionario:\n",
    "        print(\"printValueIn\", diccionario[clave])\n",
    "    else:\n",
    "        print(f\"La clave '{clave}' no está presente en ambos la lista y el diccionario. printValueIn\")"
   ]
  },
  {
   "attachments": {},
   "cell_type": "markdown",
   "metadata": {},
   "source": [
    "3.La versión 3 será usando intersección de conjuntos"
   ]
  },
  {
   "cell_type": "code",
   "execution_count": 91,
   "metadata": {},
   "outputs": [],
   "source": [
    "def printValueSets(lista, diccionario, clave):\n",
    "    if set([clave]).intersection(set(lista)) and set([clave]).intersection(set(diccionario.keys())):\n",
    "        print(\"printValueSets\", diccionario[clave])\n",
    "    else:\n",
    "        print(f\"La clave '{clave}' no está presente en ambos la lista y el diccionario. printValueSets\")\n"
   ]
  },
  {
   "cell_type": "code",
   "execution_count": 92,
   "metadata": {},
   "outputs": [
    {
     "name": "stdout",
     "output_type": "stream",
     "text": [
      "printValueAll 5\n",
      "La clave 'g' no está presente en ambos la lista y el diccionario. printValueAll\n",
      "printValueIn 5\n",
      "La clave 'g' no está presente en ambos la lista y el diccionario. printValueIn\n",
      "printValueSets 5\n",
      "La clave 'g' no está presente en ambos la lista y el diccionario. printValueSets\n"
     ]
    }
   ],
   "source": [
    "\n",
    "lista1 = ['b']\n",
    "diccionario1 = {'a': 4, 'b': 5, 'c': 6}\n",
    "clave1 = 'b'\n",
    "\n",
    "lista2 = [7, 8, 9]\n",
    "diccionario2 = {'d': 10, 'e': 11, 'f': 12}\n",
    "clave2 = 'g'\n",
    "\n",
    "printValueAll(lista1, diccionario1, clave1)  \n",
    "printValueAll(lista2, diccionario2, clave2)  \n",
    "\n",
    "printValueIn(lista1, diccionario1, clave1)  \n",
    "printValueIn(lista2, diccionario2, clave2)\n",
    "\n",
    "printValueSets(lista1, diccionario1, clave1)  \n",
    "printValueSets(lista2, diccionario2, clave2)\n"
   ]
  }
 ],
 "metadata": {
  "kernelspec": {
   "display_name": "Python 3",
   "language": "python",
   "name": "python3"
  },
  "language_info": {
   "codemirror_mode": {
    "name": "ipython",
    "version": 3
   },
   "file_extension": ".py",
   "mimetype": "text/x-python",
   "name": "python",
   "nbconvert_exporter": "python",
   "pygments_lexer": "ipython3",
   "version": "3.9.11"
  },
  "orig_nbformat": 4,
  "vscode": {
   "interpreter": {
    "hash": "72f235a78b5cf937fd09c1593b6a0e4473f824a03930b62c2c7d9a177b9de8f3"
   }
  }
 },
 "nbformat": 4,
 "nbformat_minor": 2
}
