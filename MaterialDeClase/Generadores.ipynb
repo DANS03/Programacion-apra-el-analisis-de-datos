{
 "cells": [
  {
   "cell_type": "markdown",
   "metadata": {},
   "source": [
    "# Generadores\n",
    "## Programación para Análisis de Datos\n",
    "## Mtra. Gisel Hernández Chávez\n",
    "\n",
    "### Contenido principal\n",
    "+ Sintaxis de expresión generadora. Ejemplos y ejercicios\n",
    "+ Función generadora para producir iteradores. Ejemplos y ejercicios.\n",
    "+ Diferencia entre funciones generadoras y funciones que usan return \n"
   ]
  },
  {
   "cell_type": "markdown",
   "metadata": {},
   "source": [
    "## Revisión de ejercicio de expresión generadora de la tarea"
   ]
  },
  {
   "cell_type": "code",
   "execution_count": 21,
   "metadata": {},
   "outputs": [],
   "source": [
    "# Ejercicio con expresión generadora en la tarea pasada\n",
    "def llave_in(k,L,d):\n",
    "    if all(True if k1 in i else False for i in [L,d]):\n",
    "        print(f\"La llave {k} del diccionario tiene el valor {d[k]}\")\n",
    "    else:\n",
    "         print(f\"La llave {k} no esta en el diccionario {d} ni en la lista {L}\")\n",
    "            \n",
    "k1= 'a'\n",
    "L1 = [1,2]\n",
    "L2 = ['r','a']\n",
    "d1 ={1:'a'} \n",
    "d2 = {1:1,2:2}"
   ]
  },
  {
   "cell_type": "code",
   "execution_count": 22,
   "metadata": {},
   "outputs": [
    {
     "name": "stdout",
     "output_type": "stream",
     "text": [
      "La llave a no esta en el diccionario {1: 'a'} ni en la lista [1, 2]\n"
     ]
    }
   ],
   "source": [
    "llave_in(k1,L1,d1)"
   ]
  },
  {
   "cell_type": "markdown",
   "metadata": {},
   "source": [
    "## Ejercicio de expresión generadora\n",
    "\n",
    "Escriba una expresión generadora que permita iterar sobre cada línea de la cadena line_list"
   ]
  },
  {
   "cell_type": "code",
   "execution_count": 23,
   "metadata": {},
   "outputs": [
    {
     "data": {
      "text/plain": [
       "generator"
      ]
     },
     "execution_count": 23,
     "metadata": {},
     "output_type": "execute_result"
    }
   ],
   "source": [
    "line_list = ['  line 1\\n', 'line 2  \\n', 'line 3  \\n']  # lista de cadenas\n",
    "\n",
    "# La expresión generadora retorna un iterador\n",
    "# Note que va encerrada entre paréntesis\n",
    "stripped_iter = (line.strip() for line in line_list)  # se crea objeto de tipo generator\n",
    "type(stripped_iter) # informa que es del tipo generator (un tipo de iterator)\n"
   ]
  },
  {
   "cell_type": "code",
   "execution_count": 24,
   "metadata": {},
   "outputs": [
    {
     "name": "stdout",
     "output_type": "stream",
     "text": [
      "<class 'generator'>\n"
     ]
    }
   ],
   "source": [
    "print(type(stripped_iter ))  "
   ]
  },
  {
   "cell_type": "code",
   "execution_count": 25,
   "metadata": {},
   "outputs": [
    {
     "name": "stdout",
     "output_type": "stream",
     "text": [
      "line 1\n",
      "line 2\n",
      "line 3\n"
     ]
    }
   ],
   "source": [
    "for i in stripped_iter:\n",
    "    print(i)\n",
    "\n"
   ]
  },
  {
   "cell_type": "code",
   "execution_count": 33,
   "metadata": {},
   "outputs": [
    {
     "name": "stdout",
     "output_type": "stream",
     "text": [
      "<class 'list'>\n"
     ]
    }
   ],
   "source": [
    "# La lista por comprensión retorna una lista\n",
    "stripped_list = [line.strip() for line in line_list]\n",
    "print(type(stripped_list )) "
   ]
  },
  {
   "cell_type": "markdown",
   "metadata": {},
   "source": [
    "## Generadores\n",
    "\n",
    "Los generadores son una clase especial de funciones que simplifican la tarea de escribir iteradores. Las funciones regulares calculan un valor y lo devuelven, pero __los generadores devuelven un iterador que devuelve un flujo de valores__.\n",
    "\n",
    "Sin duda, está familiarizado con cómo funcionan las llamadas a funciones regulares en Python. Ver https://es.wikipedia.org/wiki/Pila_de_llamadas \n",
    "+ Cuando llama a una función, obtiene un espacio de nombres privado donde se crean sus variables locales. \n",
    "+ Cuando la función alcanza una declaración de retorno, las variables locales se destruyen y el valor se devuelve al llamador.\n",
    "+ Una llamada posterior a la misma función crea un nuevo espacio de nombres privado y un nuevo conjunto de variables locales.\n",
    "\n",
    "Pero, ¿qué pasa si las variables locales no se descartan al salir de una función? ¿Qué pasaría si luego pudiera reanudar la función donde la dejó? Esto es lo que proporcionan los generadores; se pueden considerar como funciones reanudables."
   ]
  },
  {
   "cell_type": "markdown",
   "metadata": {},
   "source": [
    "+ Cualquier función que contenga una palabra clave yield es una función generadora.\n",
    "\n",
    "+ Cuando llamas a una función de generador, no devuelve un solo valor; en su lugar, devuelve un objeto generador que admite el protocolo de iterador. \n",
    "+ Al ejecutar la expresión yield, el generador genera el valor de i, similar a una declaración return. La gran diferencia entre yield y return es que al alcanzar un rendimiento se suspende el estado de ejecución del generador y se conservan las variables locales. En la próxima llamada al método __next __ () del generador, la función continuará ejecutándose."
   ]
  },
  {
   "cell_type": "code",
   "execution_count": 27,
   "metadata": {},
   "outputs": [],
   "source": [
    "def generate_ints(N):\n",
    "   for i in range(N):\n",
    "       yield i"
   ]
  },
  {
   "cell_type": "code",
   "execution_count": 28,
   "metadata": {},
   "outputs": [
    {
     "data": {
      "text/plain": [
       "<generator object generate_ints at 0x0000018BD16CDC80>"
      ]
     },
     "execution_count": 28,
     "metadata": {},
     "output_type": "execute_result"
    }
   ],
   "source": [
    "gen = generate_ints(3)\n",
    "gen  "
   ]
  },
  {
   "cell_type": "code",
   "execution_count": 29,
   "metadata": {},
   "outputs": [
    {
     "data": {
      "text/plain": [
       "0"
      ]
     },
     "execution_count": 29,
     "metadata": {},
     "output_type": "execute_result"
    }
   ],
   "source": [
    "next(gen)"
   ]
  },
  {
   "cell_type": "code",
   "execution_count": 30,
   "metadata": {},
   "outputs": [
    {
     "data": {
      "text/plain": [
       "1"
      ]
     },
     "execution_count": 30,
     "metadata": {},
     "output_type": "execute_result"
    }
   ],
   "source": [
    "next(gen)"
   ]
  },
  {
   "cell_type": "code",
   "execution_count": 31,
   "metadata": {},
   "outputs": [
    {
     "data": {
      "text/plain": [
       "2"
      ]
     },
     "execution_count": 31,
     "metadata": {},
     "output_type": "execute_result"
    }
   ],
   "source": [
    "next(gen)"
   ]
  },
  {
   "cell_type": "code",
   "execution_count": 32,
   "metadata": {},
   "outputs": [
    {
     "ename": "StopIteration",
     "evalue": "",
     "output_type": "error",
     "traceback": [
      "\u001b[1;31m---------------------------------------------------------------------------\u001b[0m",
      "\u001b[1;31mStopIteration\u001b[0m                             Traceback (most recent call last)",
      "Cell \u001b[1;32mIn[32], line 1\u001b[0m\n\u001b[1;32m----> 1\u001b[0m \u001b[39mnext\u001b[39;49m(gen)  \u001b[39m# Levanta una excepción StopIteration porque se agotaron los valores\u001b[39;00m\n",
      "\u001b[1;31mStopIteration\u001b[0m: "
     ]
    }
   ],
   "source": [
    "next(gen)  # Levanta una excepción StopIteration porque se agotaron los valores"
   ]
  },
  {
   "cell_type": "code",
   "execution_count": null,
   "metadata": {},
   "outputs": [
    {
     "name": "stdout",
     "output_type": "stream",
     "text": [
      "0 1 2\n"
     ]
    }
   ],
   "source": [
    "a, b, c = generate_ints(3)\n",
    "print(a,b,c)"
   ]
  },
  {
   "cell_type": "code",
   "execution_count": null,
   "metadata": {},
   "outputs": [
    {
     "name": "stdout",
     "output_type": "stream",
     "text": [
      "0\n",
      "1\n",
      "2\n"
     ]
    }
   ],
   "source": [
    "for i in generate_ints(3):\n",
    "    print(i)"
   ]
  },
  {
   "cell_type": "markdown",
   "metadata": {},
   "source": [
    "## Ejercicio. Encontrar los factores primos de un número\n",
    "\n",
    "En teoría de números, los factores primos de un número entero __son los números primos divisores__ exactos de ese número entero.\n",
    "\n",
    "a) Con una función regular\n",
    "\n",
    "b) Con una función generadora\n",
    "\n",
    "c) Con recursión\n",
    "\n",
    "__Algoritmo_\n",
    "\n",
    "1. Denote al número con n.\n",
    "2. Inicialice el conjunto factores primos fp con conjunto vacío\n",
    "3. while num is divisible por 2\n",
    "    3.1 Adicione 2 al conjunto fp\n",
    "    3.2 n = n // 2\n",
    "+ # En este punto num es impar\n",
    "4. from i = 3 hasta raíz cuadrada de n con paso 2\n",
    "    while n divisible por i\n",
    "        4.1 adicione i al conjunto fp\n",
    "        4.2 n = n // i\n",
    "    if n > 2  # caso en el que n es un número primo y mayor que 2 y n no puede ser 1\n",
    "        4.3 Adicione n a fp\n",
    "5. retorne fp"
   ]
  },
  {
   "cell_type": "code",
   "execution_count": null,
   "metadata": {},
   "outputs": [],
   "source": [
    "from math import ceil,sqrt"
   ]
  },
  {
   "cell_type": "code",
   "execution_count": null,
   "metadata": {},
   "outputs": [],
   "source": [
    "# Con una función regular\n",
    "def primefactors(n):\n",
    "    '''\n",
    "    Parameters\n",
    "    ----------\n",
    "    n : int\n",
    "        Número para determinarle sus factores primos\n",
    "\n",
    "    Returns\n",
    "    -------\n",
    "    fp : set\n",
    "        Factores primos del número\n",
    "    '''\n",
    "    #número par\n",
    "    fp = set()  # conjunto de factores primos\n",
    "    while n % 2 == 0:\n",
    "        fp.add(2)\n",
    "        n = n // 2\n",
    "    # n se convierte en impar\n",
    "    for i in range(3,int(sqrt(n))+1,2):\n",
    "        while (n % i == 0):\n",
    "            fp.add(i)\n",
    "            n = n // i\n",
    "    if n > 2:\n",
    "        fp.add(n)\n",
    "    return fp"
   ]
  },
  {
   "cell_type": "code",
   "execution_count": null,
   "metadata": {},
   "outputs": [
    {
     "data": {
      "text/plain": [
       "{3, 5}"
      ]
     },
     "execution_count": 21,
     "metadata": {},
     "output_type": "execute_result"
    }
   ],
   "source": [
    "fp = primefactors(15)\n",
    "fp"
   ]
  },
  {
   "cell_type": "markdown",
   "metadata": {},
   "source": [
    "## Solución con función generadora"
   ]
  },
  {
   "cell_type": "code",
   "execution_count": null,
   "metadata": {},
   "outputs": [],
   "source": [
    "# Función generadora que encuentra los factores primos de un número  \n",
    "\n",
    "def prime_factor(n):\n",
    "    '''\n",
    "        n: int\n",
    "        genera los factores primos\n",
    "    '''\n",
    "    while n % 2 == 0:\n",
    "        yield 2\n",
    "        n = n // 2\n",
    "    # n se convierte en impar\n",
    "    for i in range(3,int(sqrt(n))+1,2):\n",
    "        while (n % i == 0):\n",
    "            yield i\n",
    "            n = n // i\n",
    "    if n > 2:\n",
    "        yield n"
   ]
  },
  {
   "cell_type": "code",
   "execution_count": null,
   "metadata": {},
   "outputs": [
    {
     "data": {
      "text/plain": [
       "{2, 5}"
      ]
     },
     "execution_count": 24,
     "metadata": {},
     "output_type": "execute_result"
    }
   ],
   "source": [
    "prime_fact = set()\n",
    "for i in prime_factor(50):\n",
    "    prime_fact.add(i)\n",
    "\n",
    "prime_fact\n"
   ]
  },
  {
   "cell_type": "markdown",
   "metadata": {},
   "source": [
    "## Solución con recursión y función generadora\n",
    "\n",
    "Recordar que \n",
    "\n",
    "next(iterator[, default])\n",
    "\n",
    "Returna el siguiente elemento del iterador. Si se pasa el argumento default y el iterador está exhausto, se retorna ese valor en lugar de levantar la excepción StopIteration.\n",
    "\n",
    "### Leer datos de un generador usando yield from\n",
    "\n",
    "Ejemplo tomado de https://stackoverflow.com/questions/9708902/in-practice-what-are-the-main-uses-for-the-yield-from-syntax-in-python-3-3\n",
    "\n",
    "__Nota__: una función wrapper extiende el funcionamiento de otra función y tiene como parámetro la función a la cual extiende (envuelve). Más aelante veremos cómo se usa para definir decoradores."
   ]
  },
  {
   "cell_type": "code",
   "execution_count": null,
   "metadata": {},
   "outputs": [
    {
     "name": "stdout",
     "output_type": "stream",
     "text": [
      "<< 0\n",
      "<< 1\n",
      "<< 2\n",
      "<< 3\n"
     ]
    }
   ],
   "source": [
    "def reader():\n",
    "    \"\"\"A generator that fakes a read from a file, socket, etc.\"\"\"\n",
    "    for i in range(4):\n",
    "        yield '<< %s' % i\n",
    "\n",
    "def reader_wrapper(g):\n",
    "    # Manually iterate over data produced by reader\n",
    "    for v in g:\n",
    "        yield v\n",
    "\n",
    "wrap = reader_wrapper(reader())\n",
    "for i in wrap:\n",
    "    print(i)"
   ]
  },
  {
   "cell_type": "code",
   "execution_count": null,
   "metadata": {},
   "outputs": [],
   "source": [
    "# usando yield from\n",
    "\n",
    "def reader_wrapper2(g):\n",
    "    yield from g"
   ]
  },
  {
   "cell_type": "code",
   "execution_count": null,
   "metadata": {},
   "outputs": [
    {
     "name": "stdout",
     "output_type": "stream",
     "text": [
      "<< 0\n",
      "<< 1\n",
      "<< 2\n",
      "<< 3\n"
     ]
    }
   ],
   "source": [
    "wrap = reader_wrapper2(reader())\n",
    "for i in wrap:\n",
    "    print(i)"
   ]
  },
  {
   "cell_type": "code",
   "execution_count": 34,
   "metadata": {},
   "outputs": [],
   "source": [
    "from math import ceil,sqrt\n",
    "def factorgen(n):\n",
    "    '''Encuentra todos los factores primos'''\n",
    "    if n <= 1: \n",
    "        return\n",
    "    prime = next((x for x in range(2, ceil(sqrt(n))+1) if n%x == 0), n)\n",
    "    yield prime\n",
    "    yield from factorgen(n//prime) # recursión"
   ]
  },
  {
   "cell_type": "code",
   "execution_count": 35,
   "metadata": {},
   "outputs": [
    {
     "name": "stdout",
     "output_type": "stream",
     "text": [
      "{17}\n"
     ]
    }
   ],
   "source": [
    "fact_prim =set()    \n",
    "for i in factorgen(17):\n",
    "    fact_prim.add(i)\n",
    "print(fact_prim)"
   ]
  },
  {
   "cell_type": "markdown",
   "metadata": {},
   "source": [
    "## Ejercicios sobre generadores\n",
    "\n",
    "1.__The Sieve of Eratosthenes__. We created a list or a set of candidate prime numbers. This exercise has three parts:\n",
    "    + initialization, \n",
    "    + generating the list (or set) or prime numbers, \n",
    "    + then reporting. \n",
    "    \n",
    "In the list version, we had to filter the sequence of boolean values to determine the primes. In the set version, the set contained the primes.\n",
    "Within the Generate step, there is a point where we know that the value of p is prime. At this point, we can yield p. If yield each value as we discover it, we eliminate the entire \"report\" step from the function.\n",
    "\n",
    "2. __The Generator Version of range__. The range function creates a sequence. For very large sequences, this consumes a lot of memory. You can write a version of range which does not create the entire sequence, but instead yields the individual values. Using a generator will have the same effect as iterating through a sequence, but won't consume as much memory.\n",
    "\n",
    "Define a generator, genrange, which generates the same sequence of values as range, without creating a list object.\n",
    "Check the documentation for the built-in function xrange.\n"
   ]
  },
  {
   "cell_type": "code",
   "execution_count": null,
   "metadata": {},
   "outputs": [],
   "source": []
  }
 ],
 "metadata": {
  "kernelspec": {
   "display_name": "Python 3",
   "language": "python",
   "name": "python3"
  },
  "language_info": {
   "codemirror_mode": {
    "name": "ipython",
    "version": 3
   },
   "file_extension": ".py",
   "mimetype": "text/x-python",
   "name": "python",
   "nbconvert_exporter": "python",
   "pygments_lexer": "ipython3",
   "version": "3.9.11"
  },
  "vscode": {
   "interpreter": {
    "hash": "72f235a78b5cf937fd09c1593b6a0e4473f824a03930b62c2c7d9a177b9de8f3"
   }
  }
 },
 "nbformat": 4,
 "nbformat_minor": 4
}
